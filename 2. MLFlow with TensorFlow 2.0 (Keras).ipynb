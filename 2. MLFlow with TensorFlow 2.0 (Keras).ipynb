{
 "cells": [
  {
   "cell_type": "markdown",
   "id": "47c68582",
   "metadata": {},
   "source": [
    "## MLFlow avec TensorFlow 2.0\n",
    "\n"
   ]
  },
  {
   "cell_type": "code",
   "execution_count": null,
   "id": "00176c93",
   "metadata": {},
   "outputs": [
    {
     "name": "stdout",
     "output_type": "stream",
     "text": [
      "WARNING:tensorflow:From C:\\Users\\PC\\AppData\\Roaming\\Python\\Python39\\site-packages\\keras\\src\\losses.py:2976: The name tf.losses.sparse_softmax_cross_entropy is deprecated. Please use tf.compat.v1.losses.sparse_softmax_cross_entropy instead.\n",
      "\n"
     ]
    }
   ],
   "source": [
    "import tensorflow as tf\n",
    "from tensorflow.keras.models import Sequential\n",
    "from tensorflow.keras.layers import Dense, Conv2D, Flatten\n",
    "from tensorflow.keras.datasets import mnist\n",
    "import numpy as np\n",
    "import matplotlib\n",
    "import matplotlib.pyplot as plt\n",
    "import sklearn\n",
    "from sklearn.metrics import roc_auc_score\n",
    "import mlflow\n",
    "import mlflow.tensorflow\n",
    "print(\"TensorFlow: {}\".format(tf.__version__))\n",
    "print(\"Scikit-Learn: {}\".format(sklearn.__version__))\n",
    "print(\"Numpy: {}\".format(np.__version__))\n",
    "print(\"MLFlow: {}\".format(mlflow.__version__))\n",
    "print(\"Matplotlib: {}\".format(matplotlib.__version__))"
   ]
  },
  {
   "cell_type": "code",
   "execution_count": 2,
   "id": "886c495b-7e6c-4c0f-9efd-57018980449c",
   "metadata": {},
   "outputs": [
    {
     "name": "stdout",
     "output_type": "stream",
     "text": [
      "Defaulting to user installation because normal site-packages is not writeable\n",
      "Collecting tensorflow\n",
      "  Using cached tensorflow-2.15.0-cp39-cp39-win_amd64.whl (2.1 kB)\n",
      "Collecting tensorflow-intel==2.15.0\n",
      "  Downloading tensorflow_intel-2.15.0-cp39-cp39-win_amd64.whl (300.8 MB)\n",
      "Requirement already satisfied: six>=1.12.0 in c:\\users\\pc\\appdata\\roaming\\python\\python39\\site-packages (from tensorflow-intel==2.15.0->tensorflow) (1.16.0)\n",
      "Collecting opt-einsum>=2.3.2\n",
      "  Downloading opt_einsum-3.3.0-py3-none-any.whl (65 kB)\n",
      "Collecting libclang>=13.0.0\n",
      "  Downloading libclang-16.0.6-py2.py3-none-win_amd64.whl (24.4 MB)\n",
      "Collecting astunparse>=1.6.0\n",
      "  Downloading astunparse-1.6.3-py2.py3-none-any.whl (12 kB)\n",
      "Collecting gast!=0.5.0,!=0.5.1,!=0.5.2,>=0.2.1\n",
      "  Downloading gast-0.5.4-py3-none-any.whl (19 kB)\n",
      "Requirement already satisfied: numpy<2.0.0,>=1.23.5 in c:\\users\\pc\\appdata\\roaming\\python\\python39\\site-packages (from tensorflow-intel==2.15.0->tensorflow) (1.26.2)\n",
      "Collecting ml-dtypes~=0.2.0\n",
      "  Downloading ml_dtypes-0.2.0-cp39-cp39-win_amd64.whl (938 kB)\n",
      "Collecting tensorflow-io-gcs-filesystem>=0.23.1\n",
      "  Downloading tensorflow_io_gcs_filesystem-0.31.0-cp39-cp39-win_amd64.whl (1.5 MB)\n",
      "Collecting keras<2.16,>=2.15.0\n",
      "  Downloading keras-2.15.0-py3-none-any.whl (1.7 MB)\n",
      "Collecting termcolor>=1.1.0\n",
      "  Downloading termcolor-2.4.0-py3-none-any.whl (7.7 kB)\n",
      "Collecting google-pasta>=0.1.1\n",
      "  Downloading google_pasta-0.2.0-py3-none-any.whl (57 kB)\n",
      "Collecting h5py>=2.9.0\n",
      "  Downloading h5py-3.10.0-cp39-cp39-win_amd64.whl (2.7 MB)\n",
      "Collecting wrapt<1.15,>=1.11.0\n",
      "  Downloading wrapt-1.14.1-cp39-cp39-win_amd64.whl (35 kB)\n",
      "Requirement already satisfied: flatbuffers>=23.5.26 in c:\\users\\pc\\appdata\\roaming\\python\\python39\\site-packages (from tensorflow-intel==2.15.0->tensorflow) (23.5.26)\n",
      "Collecting absl-py>=1.0.0\n",
      "  Downloading absl_py-2.0.0-py3-none-any.whl (130 kB)\n",
      "Requirement already satisfied: packaging in c:\\users\\pc\\appdata\\roaming\\python\\python39\\site-packages (from tensorflow-intel==2.15.0->tensorflow) (23.2)\n",
      "Collecting grpcio<2.0,>=1.24.3\n",
      "  Downloading grpcio-1.60.0-cp39-cp39-win_amd64.whl (3.7 MB)\n",
      "Requirement already satisfied: setuptools in c:\\program files\\python39\\lib\\site-packages (from tensorflow-intel==2.15.0->tensorflow) (57.4.0)\n",
      "Collecting tensorboard<2.16,>=2.15\n",
      "  Downloading tensorboard-2.15.1-py3-none-any.whl (5.5 MB)\n",
      "Collecting tensorflow-estimator<2.16,>=2.15.0\n",
      "  Downloading tensorflow_estimator-2.15.0-py2.py3-none-any.whl (441 kB)\n",
      "Collecting protobuf!=4.21.0,!=4.21.1,!=4.21.2,!=4.21.3,!=4.21.4,!=4.21.5,<5.0.0dev,>=3.20.3\n",
      "  Using cached protobuf-4.25.1-cp39-cp39-win_amd64.whl (413 kB)\n",
      "Requirement already satisfied: typing-extensions>=3.6.6 in c:\\users\\pc\\appdata\\roaming\\python\\python39\\site-packages (from tensorflow-intel==2.15.0->tensorflow) (4.8.0)\n",
      "Collecting wheel<1.0,>=0.23.0\n",
      "  Downloading wheel-0.42.0-py3-none-any.whl (65 kB)\n",
      "Requirement already satisfied: markdown>=2.6.8 in c:\\users\\pc\\appdata\\roaming\\python\\python39\\site-packages (from tensorboard<2.16,>=2.15->tensorflow-intel==2.15.0->tensorflow) (3.5.1)\n",
      "Collecting protobuf!=4.21.0,!=4.21.1,!=4.21.2,!=4.21.3,!=4.21.4,!=4.21.5,<5.0.0dev,>=3.20.3\n",
      "  Downloading protobuf-4.23.4-cp39-cp39-win_amd64.whl (422 kB)\n",
      "Collecting tensorboard-data-server<0.8.0,>=0.7.0\n",
      "  Downloading tensorboard_data_server-0.7.2-py3-none-any.whl (2.4 kB)\n",
      "Collecting google-auth<3,>=1.6.3\n",
      "  Downloading google_auth-2.26.1-py2.py3-none-any.whl (186 kB)\n",
      "Requirement already satisfied: werkzeug>=1.0.1 in c:\\users\\pc\\appdata\\roaming\\python\\python39\\site-packages (from tensorboard<2.16,>=2.15->tensorflow-intel==2.15.0->tensorflow) (3.0.1)\n",
      "Collecting google-auth-oauthlib<2,>=0.5\n",
      "  Downloading google_auth_oauthlib-1.2.0-py2.py3-none-any.whl (24 kB)\n",
      "Requirement already satisfied: requests<3,>=2.21.0 in c:\\users\\pc\\appdata\\roaming\\python\\python39\\site-packages (from tensorboard<2.16,>=2.15->tensorflow-intel==2.15.0->tensorflow) (2.31.0)\n",
      "Collecting cachetools<6.0,>=2.0.0\n",
      "  Downloading cachetools-5.3.2-py3-none-any.whl (9.3 kB)\n",
      "Collecting rsa<5,>=3.1.4\n",
      "  Downloading rsa-4.9-py3-none-any.whl (34 kB)\n",
      "Collecting pyasn1-modules>=0.2.1\n",
      "  Downloading pyasn1_modules-0.3.0-py2.py3-none-any.whl (181 kB)\n",
      "Collecting requests-oauthlib>=0.7.0\n",
      "  Downloading requests_oauthlib-1.3.1-py2.py3-none-any.whl (23 kB)\n",
      "Requirement already satisfied: importlib-metadata>=4.4 in c:\\users\\pc\\appdata\\roaming\\python\\python39\\site-packages (from markdown>=2.6.8->tensorboard<2.16,>=2.15->tensorflow-intel==2.15.0->tensorflow) (6.8.0)\n",
      "Requirement already satisfied: zipp>=0.5 in c:\\users\\pc\\appdata\\roaming\\python\\python39\\site-packages (from importlib-metadata>=4.4->markdown>=2.6.8->tensorboard<2.16,>=2.15->tensorflow-intel==2.15.0->tensorflow) (3.17.0)\n",
      "Collecting pyasn1<0.6.0,>=0.4.6\n",
      "  Downloading pyasn1-0.5.1-py2.py3-none-any.whl (84 kB)\n",
      "Requirement already satisfied: urllib3<3,>=1.21.1 in c:\\users\\pc\\appdata\\roaming\\python\\python39\\site-packages (from requests<3,>=2.21.0->tensorboard<2.16,>=2.15->tensorflow-intel==2.15.0->tensorflow) (2.1.0)\n",
      "Requirement already satisfied: certifi>=2017.4.17 in c:\\users\\pc\\appdata\\roaming\\python\\python39\\site-packages (from requests<3,>=2.21.0->tensorboard<2.16,>=2.15->tensorflow-intel==2.15.0->tensorflow) (2023.11.17)\n",
      "Requirement already satisfied: charset-normalizer<4,>=2 in c:\\users\\pc\\appdata\\roaming\\python\\python39\\site-packages (from requests<3,>=2.21.0->tensorboard<2.16,>=2.15->tensorflow-intel==2.15.0->tensorflow) (3.3.2)\n",
      "Requirement already satisfied: idna<4,>=2.5 in c:\\users\\pc\\appdata\\roaming\\python\\python39\\site-packages (from requests<3,>=2.21.0->tensorboard<2.16,>=2.15->tensorflow-intel==2.15.0->tensorflow) (3.5)\n",
      "Requirement already satisfied: oauthlib>=3.0.0 in c:\\users\\pc\\appdata\\roaming\\python\\python39\\site-packages (from requests-oauthlib>=0.7.0->google-auth-oauthlib<2,>=0.5->tensorboard<2.16,>=2.15->tensorflow-intel==2.15.0->tensorflow) (3.2.2)\n",
      "Requirement already satisfied: MarkupSafe>=2.1.1 in c:\\users\\pc\\appdata\\roaming\\python\\python39\\site-packages (from werkzeug>=1.0.1->tensorboard<2.16,>=2.15->tensorflow-intel==2.15.0->tensorflow) (2.1.3)\n",
      "Installing collected packages: pyasn1, rsa, pyasn1-modules, cachetools, requests-oauthlib, google-auth, wheel, tensorboard-data-server, protobuf, grpcio, google-auth-oauthlib, absl-py, wrapt, termcolor, tensorflow-io-gcs-filesystem, tensorflow-estimator, tensorboard, opt-einsum, ml-dtypes, libclang, keras, h5py, google-pasta, gast, astunparse, tensorflow-intel, tensorflow\n",
      "  Attempting uninstall: protobuf\n",
      "    Found existing installation: protobuf 3.20.2\n",
      "    Uninstalling protobuf-3.20.2:\n",
      "      Successfully uninstalled protobuf-3.20.2\n",
      "Note: you may need to restart the kernel to use updated packages.\n"
     ]
    },
    {
     "name": "stderr",
     "output_type": "stream",
     "text": [
      "WARNING: Ignoring invalid distribution -rotobuf (c:\\users\\pc\\appdata\\roaming\\python\\python39\\site-packages)\n",
      "WARNING: Ignoring invalid distribution -rotobuf (c:\\users\\pc\\appdata\\roaming\\python\\python39\\site-packages)\n",
      "WARNING: Ignoring invalid distribution -rotobuf (c:\\users\\pc\\appdata\\roaming\\python\\python39\\site-packages)\n",
      "    WARNING: Ignoring invalid distribution -rotobuf (c:\\users\\pc\\appdata\\roaming\\python\\python39\\site-packages)\n",
      "ERROR: Could not install packages due to an OSError: [WinError 5] Accès refusé: 'C:\\\\Users\\\\PC\\\\AppData\\\\Roaming\\\\Python\\\\Python39\\\\site-packages\\\\google\\\\~-otobuf\\\\internal\\\\_api_implementation.cp39-win_amd64.pyd'\n",
      "Check the permissions.\n",
      "\n",
      "WARNING: Ignoring invalid distribution -rotobuf (c:\\users\\pc\\appdata\\roaming\\python\\python39\\site-packages)\n",
      "WARNING: Ignoring invalid distribution -rotobuf (c:\\users\\pc\\appdata\\roaming\\python\\python39\\site-packages)\n",
      "WARNING: Ignoring invalid distribution -rotobuf (c:\\users\\pc\\appdata\\roaming\\python\\python39\\site-packages)\n",
      "WARNING: You are using pip version 21.2.3; however, version 23.3.2 is available.\n",
      "You should consider upgrading via the 'C:\\Program Files\\Python39\\python.exe -m pip install --upgrade pip' command.\n"
     ]
    }
   ],
   "source": [
    "pip install tensorflow"
   ]
  },
  {
   "cell_type": "code",
   "execution_count": 16,
   "id": "525dbc55",
   "metadata": {},
   "outputs": [],
   "source": [
    "(x_train, y_train), (x_test, y_test) = mnist.load_data()"
   ]
  },
  {
   "cell_type": "code",
   "execution_count": 17,
   "id": "0c23cb66",
   "metadata": {},
   "outputs": [
    {
     "name": "stdout",
     "output_type": "stream",
     "text": [
      "Class:  5\n"
     ]
    },
    {
     "data": {
      "text/plain": [
       "(<matplotlib.image.AxesImage at 0x1e4f1d1bc10>, None)"
      ]
     },
     "execution_count": 17,
     "metadata": {},
     "output_type": "execute_result"
    },
    {
     "data": {
      "image/png": "[encoded data removed]",
      "text/plain": [
       "<Figure size 432x288 with 1 Axes>"
      ]
     },
     "metadata": {
      "needs_background": "light"
     },
     "output_type": "display_data"
    }
   ],
   "source": [
    "# pour avoir un aperçu sur le dataset\n",
    "plt.imshow(x_train[0], cmap='gray'), print(\"Class: \", y_train[0])"
   ]
  },
  {
   "cell_type": "markdown",
   "id": "1f087400",
   "metadata": {},
   "source": [
    "Notez également que les étiquettes sont toutes des nombres entiers compris entre 0 et 9, chacune associée à une image qui montre un chiffre manuscrit de 0 à 9. "
   ]
  },
  {
   "cell_type": "markdown",
   "id": "f3db4810",
   "metadata": {},
   "source": [
    "Étant donné que les couches convolutives 2D dans TensorFlow/Keras s'attendent à quatre dimensions au format (m, h, w, c) où m représente le nombre d'échantillons dans l'ensemble de données, h et w représentent respectivement la hauteur et la largeur, et c représente le nombre de canaux (trois s'il s'agit d'une image couleur RGB par exemple), vous devez remodeler vos données afin qu'elles soient conformes à ces spécifications. Vos images sont toutes en noir et blanc, elles en ont donc techniquement 1 canal. Et donc, vous devez les remodeler comme ceci : "
   ]
  },
  {
   "cell_type": "code",
   "execution_count": 18,
   "id": "cd04d0a5",
   "metadata": {},
   "outputs": [
    {
     "data": {
      "text/plain": [
       "5"
      ]
     },
     "execution_count": 18,
     "metadata": {},
     "output_type": "execute_result"
    }
   ],
   "source": [
    "y_train[0]"
   ]
  },
  {
   "cell_type": "code",
   "execution_count": 20,
   "id": "4b3cdb53",
   "metadata": {},
   "outputs": [],
   "source": [
    "x_train = x_train.reshape(x_train.shape[0], x_train.shape[1],\n",
    "x_train.shape[2], 1)\n",
    "x_test = x_test.reshape(x_test.shape[0], x_test.shape[1],\n",
    "x_test.shape[2], 1)\n",
    "y_train = tf.keras.utils.to_categorical(y_train)\n",
    "y_test = tf.keras.utils.to_categorical(y_test)"
   ]
  },
  {
   "cell_type": "code",
   "execution_count": 21,
   "id": "0c39a2ef",
   "metadata": {},
   "outputs": [
    {
     "data": {
      "text/plain": [
       "array([0., 0., 0., 0., 0., 1., 0., 0., 0., 0.], dtype=float32)"
      ]
     },
     "execution_count": 21,
     "metadata": {},
     "output_type": "execute_result"
    }
   ],
   "source": [
    "y_train[0] # this is a one-hot encoded vector, ntice that at index 5 the value is 5"
   ]
  },
  {
   "cell_type": "code",
   "execution_count": 22,
   "id": "7cb766f4",
   "metadata": {},
   "outputs": [
    {
     "name": "stdout",
     "output_type": "stream",
     "text": [
      "Shapes\n",
      "x_train: (60000, 28, 28, 1)\n",
      "y_train: (60000, 10)\n",
      "x_test: (10000, 28, 28, 1)\n",
      "y_test: (10000, 10)\n"
     ]
    }
   ],
   "source": [
    "print(\"Shapes\")\n",
    "print(\"x_train: {}\\ny_train: {}\".format(x_train.shape,\n",
    "y_train.shape))\n",
    "print(\"x_test: {}\\ny_test: {}\".format(x_test.shape,\n",
    "y_test.shape))"
   ]
  },
  {
   "cell_type": "markdown",
   "id": "a33e2cb3",
   "metadata": {},
   "source": [
    "### MLFlow run - training and evaluating \n",
    "\n",
    "Nous allons créer notre modèle en utilisant la méthode séquentielle de création de modèle. Le modèle sera assez simple,\n",
    "composé de quelques couches convolutives 2D qui alimentent trois couches denses. "
   ]
  },
  {
   "cell_type": "code",
   "execution_count": 23,
   "id": "8b9efebc",
   "metadata": {},
   "outputs": [
    {
     "name": "stdout",
     "output_type": "stream",
     "text": [
      "Model: \"sequential\"\n",
      "_________________________________________________________________\n",
      " Layer (type)                Output Shape              Param #   \n",
      "=================================================================\n",
      " conv2d (Conv2D)             (None, 14, 14, 16)        160       \n",
      "                                                                 \n",
      " conv2d_1 (Conv2D)           (None, 7, 7, 8)           1160      \n",
      "                                                                 \n",
      " flatten (Flatten)           (None, 392)               0         \n",
      "                                                                 \n",
      " dense (Dense)               (None, 30)                11790     \n",
      "                                                                 \n",
      " dense_1 (Dense)             (None, 20)                620       \n",
      "                                                                 \n",
      " dense_2 (Dense)             (None, 10)                210       \n",
      "                                                                 \n",
      "=================================================================\n",
      "Total params: 13,940\n",
      "Trainable params: 13,940\n",
      "Non-trainable params: 0\n",
      "_________________________________________________________________\n"
     ]
    }
   ],
   "source": [
    "model = Sequential()\n",
    "model.add(Conv2D(filters=16, kernel_size=3, strides=2,padding='same', input_shape=(28, 28, 1), activation=\"relu\"))\n",
    "model.add(Conv2D(filters=8, kernel_size=3, strides=2,padding='same', input_shape=(28, 28, 1), activation=\"relu\"))\n",
    "model.add(Flatten())\n",
    "model.add(Dense(30, activation=\"relu\"))\n",
    "model.add(Dense(20, activation=\"relu\"))\n",
    "model.add(Dense(10, activation=\"softmax\"))\n",
    "model.summary()"
   ]
  },
  {
   "cell_type": "code",
   "execution_count": 25,
   "id": "ee48f908",
   "metadata": {},
   "outputs": [],
   "source": [
    "# nous allons compiler notre modèle en utilisant adam optimizer \n",
    "model.compile(optimizer=\"Adam\",loss=\"categorical_crossentropy\", metrics=[\"accuracy\"])"
   ]
  },
  {
   "cell_type": "markdown",
   "id": "5223b13b",
   "metadata": {},
   "source": [
    "Nous allons maintenant dire à MLFlow de loger ce run. nous souhaitons que toutes les métriques soient enregistrées dans la même exécution, vous devez donc indiquer spécifiquement à MLFlow d'exécuter un bloc de code dans le contexte de la même exécution. "
   ]
  },
  {
   "cell_type": "code",
   "execution_count": 26,
   "id": "d5ceff32",
   "metadata": {},
   "outputs": [
    {
     "name": "stdout",
     "output_type": "stream",
     "text": [
      "INFO: 'TF_Keras_MNIST' does not exist. Creating a new experiment\n"
     ]
    },
    {
     "name": "stderr",
     "output_type": "stream",
     "text": [
      "2021/11/14 16:07:21 WARNING mlflow.utils.autologging_utils: You are using an unsupported version of tensorflow. If you encounter errors during autologging, try upgrading / downgrading tensorflow to a supported version, or try upgrading MLflow.\n"
     ]
    },
    {
     "name": "stdout",
     "output_type": "stream",
     "text": [
      "Epoch 1/10\n",
      "235/235 [==============================] - 3s 12ms/step - loss: 1.8146 - accuracy: 0.6001\n",
      "Epoch 2/10\n",
      "235/235 [==============================] - 3s 12ms/step - loss: 0.3289 - accuracy: 0.9048\n",
      "Epoch 3/10\n",
      "235/235 [==============================] - 3s 12ms/step - loss: 0.1985 - accuracy: 0.9416\n",
      "Epoch 4/10\n",
      "235/235 [==============================] - 3s 12ms/step - loss: 0.1450 - accuracy: 0.9574\n",
      "Epoch 5/10\n",
      "235/235 [==============================] - 3s 11ms/step - loss: 0.1140 - accuracy: 0.9652\n",
      "Epoch 6/10\n",
      "235/235 [==============================] - 3s 11ms/step - loss: 0.0919 - accuracy: 0.9724\n",
      "Epoch 7/10\n",
      "235/235 [==============================] - 3s 12ms/step - loss: 0.0771 - accuracy: 0.9771\n",
      "Epoch 8/10\n",
      "235/235 [==============================] - 3s 11ms/step - loss: 0.0672 - accuracy: 0.9796\n",
      "Epoch 9/10\n",
      "235/235 [==============================] - 3s 12ms/step - loss: 0.0585 - accuracy: 0.9822\n",
      "Epoch 10/10\n",
      "235/235 [==============================] - 3s 12ms/step - loss: 0.0509 - accuracy: 0.9842\n",
      "INFO:tensorflow:Assets written to: C:\\Users\\pc\\AppData\\Local\\Temp\\tmpbjt_4g5k\\model\\data\\model\\assets\n",
      "313/313 [==============================] - 1s 1ms/step - loss: 0.0888 - accuracy: 0.9758\n",
      "eval_acc:  0.9757999777793884\n",
      "auc_score:  0.9858297428765951\n"
     ]
    }
   ],
   "source": [
    "mlflow.set_experiment(\"TF_Keras_MNIST\")\n",
    "with mlflow.start_run():\n",
    "    mlflow.tensorflow.autolog()\n",
    "    model.fit(x=x_train, y=y_train, batch_size=256, epochs=10)\n",
    "    preds = model.predict(x_test)\n",
    "    preds = np.round(preds)\n",
    "    eval_acc = model.evaluate(x_test, y_test)[1]\n",
    "    auc_score = roc_auc_score(y_test, preds)\n",
    "    print(\"eval_acc: \", eval_acc)\n",
    "    print(\"auc_score: \", auc_score)\n",
    "    mlflow.tensorflow.mlflow.log_metric(\"eval_acc\", eval_acc)\n",
    "    mlflow.tensorflow.mlflow.log_metric(\"auc_score\", auc_score)\n",
    "mlflow.end_run()"
   ]
  },
  {
   "cell_type": "markdown",
   "id": "f14af8f2",
   "metadata": {},
   "source": [
    "la ligne mlflow.keras.autolog() \n",
    "\n",
    "Cela indique essentiellement à MLFlow d'enregistrer tous les paramètres et métriques associés au modèle TensorFlow/Keras. Comme vous le verrez dans peu de temps, MLFlow enregistrera les hyperparamètres, les métriques du modèle répertoriées dans la fonction compile() et même le modèle lui-même une fois l'entraînement terminé. "
   ]
  },
  {
   "attachments": {
    "image.png": {
     "image/png": "[encoded data removed]"
    }
   },
   "cell_type": "markdown",
   "id": "14c86ae9",
   "metadata": {},
   "source": [
    "### MLFlow UI \n",
    "\n",
    "ouvrons maintenant l'interface utilisateur de MLFlow et vérifions notre run. Assurez-vous que votre terminal ou invite de commande se trouve dans le même répertoire que celui où les mlruns sont stockés.\n",
    "\n",
    "![image.png](attachment:image.png)\n",
    "\n",
    "En cliquant sur le run, vous allez remarqué que MLFlow a enregistré tous les hyperparamètres utilisés lors de la création du modèle. Cela peut être très utile pour le réglage des hyperparamètres sur un ensemble de validation, par exemple, lorsque vous essayez de régler plusieurs hyperparamètres à la fois. Par exemple, vous pouvez certainement régler batch_size, epochs ou quelque chose lié à l'optimiseur Adam comme opt_learning_rate, opt_beta_1 ou opt_beta_2. \n",
    "\n",
    "Dans la partie artifacts en bas, vous allez remqrquer que MLflow a enregistré le modèle aussi, l'évnement Tensorboard et le summary du modèle "
   ]
  },
  {
   "cell_type": "markdown",
   "id": "26216e33",
   "metadata": {},
   "source": [
    "### Model loading \n",
    "\n",
    "copiez l'ID du run "
   ]
  },
  {
   "cell_type": "code",
   "execution_count": 27,
   "id": "4ff986b7",
   "metadata": {},
   "outputs": [],
   "source": [
    "loaded_model = mlflow.keras.load_model(\"runs:/8cff908c2db5441aa1993fe5c1161e4e/model\")"
   ]
  },
  {
   "cell_type": "markdown",
   "id": "5de343fd",
   "metadata": {},
   "source": [
    "Vous remarquerez que nous avons fait mlflow.keras au lieu de mlflow.tensorflow. C'est parce que ce modèle est techniquement un modèle Keras, et donc il est conforme au code load_model() spécifique dans le module mlflow.keras. "
   ]
  },
  {
   "cell_type": "code",
   "execution_count": 28,
   "id": "af9cb01e",
   "metadata": {},
   "outputs": [
    {
     "name": "stdout",
     "output_type": "stream",
     "text": [
      "313/313 [==============================] - ETA: 0s - loss: 0.0831 - accuracy: 0.97 - 1s 3ms/step - loss: 0.0888 - accuracy: 0.9758\n",
      "Eval Loss: 0.08881716430187225\n",
      "Eval Acc: 0.9757999777793884\n",
      "Eval AUC: 0.9858297428765951\n"
     ]
    }
   ],
   "source": [
    "eval_loss, eval_acc = loaded_model.evaluate(x_test, y_test)\n",
    "preds = loaded_model.predict(x_test)\n",
    "preds = np.round(preds)\n",
    "eval_auc = roc_auc_score(y_test, preds)\n",
    "print(\"Eval Loss:\", eval_loss)\n",
    "print(\"Eval Acc:\", eval_acc)\n",
    "print(\"Eval AUC:\", eval_auc)"
   ]
  },
  {
   "cell_type": "markdown",
   "id": "ecc02152",
   "metadata": {},
   "source": [
    "Comme vous pouvez le voir, cette sortie correspond aux valeurs de la sortie de l'exécution précédente. De plus, ce modèle est également fonctionnel et peut faire des prédictions. "
   ]
  },
  {
   "cell_type": "code",
   "execution_count": null,
   "id": "e9e084ae",
   "metadata": {},
   "outputs": [],
   "source": []
  }
 ],
 "metadata": {
  "kernelspec": {
   "display_name": "Python 3 (ipykernel)",
   "language": "python",
   "name": "python3"
  },
  "language_info": {
   "codemirror_mode": {
    "name": "ipython",
    "version": 3
   },
   "file_extension": ".py",
   "mimetype": "text/x-python",
   "name": "python",
   "nbconvert_exporter": "python",
   "pygments_lexer": "ipython3",
   "version": "3.9.7"
  }
 },
 "nbformat": 4,
 "nbformat_minor": 5
}
