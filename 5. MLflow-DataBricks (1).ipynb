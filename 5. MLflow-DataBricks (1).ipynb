{
 "cells": [
  {
   "cell_type": "code",
   "execution_count": 0,
   "metadata": {
    "application/vnd.databricks.v1+cell": {
     "cellMetadata": {
      "byteLimit": 2048000,
      "rowLimit": 10000
     },
     "inputWidgets": {},
     "nuid": "7acd2050-68ea-4eb0-b2a8-0f1342791df5",
     "showTitle": false,
     "title": ""
    }
   },
   "outputs": [
    {
     "output_type": "stream",
     "name": "stdout",
     "output_type": "stream",
     "text": [
      "Python interpreter will be restarted.\nCollecting mlflow\n  Downloading mlflow-2.9.2-py3-none-any.whl (19.1 MB)\nRequirement already satisfied: pyarrow<15,>=4.0.0 in /databricks/python3/lib/python3.9/site-packages (from mlflow) (7.0.0)\nCollecting docker<7,>=4.0.0\n  Downloading docker-6.1.3-py3-none-any.whl (148 kB)\nRequirement already satisfied: pytz<2024 in /databricks/python3/lib/python3.9/site-packages (from mlflow) (2021.3)\nCollecting pyyaml<7,>=5.1\n  Downloading PyYAML-6.0.1-cp39-cp39-manylinux_2_17_x86_64.manylinux2014_x86_64.whl (738 kB)\nCollecting cloudpickle<4\n  Downloading cloudpickle-3.0.0-py3-none-any.whl (20 kB)\nCollecting gitpython<4,>=2.1.0\n  Downloading GitPython-3.1.40-py3-none-any.whl (190 kB)\nRequirement already satisfied: protobuf<5,>=3.12.0 in /databricks/python3/lib/python3.9/site-packages (from mlflow) (3.19.4)\nRequirement already satisfied: requests<3,>=2.17.3 in /databricks/python3/lib/python3.9/site-packages (from mlflow) (2.27.1)\nRequirement already satisfied: numpy<2 in /databricks/python3/lib/python3.9/site-packages (from mlflow) (1.21.5)\nCollecting alembic!=1.10.0,<2\n  Downloading alembic-1.13.1-py3-none-any.whl (233 kB)\nRequirement already satisfied: Jinja2<4,>=2.11 in /databricks/python3/lib/python3.9/site-packages (from mlflow) (2.11.3)\nRequirement already satisfied: scipy<2 in /databricks/python3/lib/python3.9/site-packages (from mlflow) (1.7.3)\nRequirement already satisfied: matplotlib<4 in /databricks/python3/lib/python3.9/site-packages (from mlflow) (3.5.1)\nRequirement already satisfied: scikit-learn<2 in /databricks/python3/lib/python3.9/site-packages (from mlflow) (1.0.2)\nCollecting importlib-metadata!=4.7.0,<8,>=3.7.0\n  Downloading importlib_metadata-7.0.1-py3-none-any.whl (23 kB)\nRequirement already satisfied: entrypoints<1 in /databricks/python3/lib/python3.9/site-packages (from mlflow) (0.4)\nCollecting markdown<4,>=3.3\n  Downloading Markdown-3.5.1-py3-none-any.whl (102 kB)\nRequirement already satisfied: pandas<3 in /databricks/python3/lib/python3.9/site-packages (from mlflow) (1.4.2)\nCollecting querystring-parser<2\n  Downloading querystring_parser-1.2.4-py2.py3-none-any.whl (7.9 kB)\nCollecting gunicorn<22\n  Downloading gunicorn-21.2.0-py3-none-any.whl (80 kB)\nCollecting Flask<4\n  Downloading flask-3.0.0-py3-none-any.whl (99 kB)\nCollecting sqlalchemy<3,>=1.4.0\n  Downloading SQLAlchemy-2.0.25-cp39-cp39-manylinux_2_17_x86_64.manylinux2014_x86_64.whl (3.1 MB)\nRequirement already satisfied: packaging<24 in /databricks/python3/lib/python3.9/site-packages (from mlflow) (21.3)\nCollecting sqlparse<1,>=0.4.0\n  Downloading sqlparse-0.4.4-py3-none-any.whl (41 kB)\nCollecting databricks-cli<1,>=0.8.7\n  Downloading databricks_cli-0.18.0-py2.py3-none-any.whl (150 kB)\nRequirement already satisfied: click<9,>=7.0 in /databricks/python3/lib/python3.9/site-packages (from mlflow) (8.0.4)\nCollecting Mako\n  Downloading Mako-1.3.0-py3-none-any.whl (78 kB)\nRequirement already satisfied: typing-extensions>=4 in /databricks/python3/lib/python3.9/site-packages (from alembic!=1.10.0,<2->mlflow) (4.1.1)\nRequirement already satisfied: urllib3<3,>=1.26.7 in /databricks/python3/lib/python3.9/site-packages (from databricks-cli<1,>=0.8.7->mlflow) (1.26.9)\nCollecting tabulate>=0.7.7\n  Downloading tabulate-0.9.0-py3-none-any.whl (35 kB)\nRequirement already satisfied: six>=1.10.0 in /databricks/python3/lib/python3.9/site-packages (from databricks-cli<1,>=0.8.7->mlflow) (1.16.0)\nCollecting oauthlib>=3.1.0\n  Downloading oauthlib-3.2.2-py3-none-any.whl (151 kB)\nCollecting pyjwt>=1.7.0\n  Downloading PyJWT-2.8.0-py3-none-any.whl (22 kB)\nCollecting websocket-client>=0.32.0\n  Downloading websocket_client-1.7.0-py3-none-any.whl (58 kB)\nCollecting Werkzeug>=3.0.0\n  Downloading werkzeug-3.0.1-py3-none-any.whl (226 kB)\nCollecting click<9,>=7.0\n  Downloading click-8.1.7-py3-none-any.whl (97 kB)\nCollecting blinker>=1.6.2\n  Downloading blinker-1.7.0-py3-none-any.whl (13 kB)\nCollecting Jinja2<4,>=2.11\n  Downloading Jinja2-3.1.2-py3-none-any.whl (133 kB)\nCollecting itsdangerous>=2.1.2\n  Downloading itsdangerous-2.1.2-py3-none-any.whl (15 kB)\nCollecting gitdb<5,>=4.0.1\n  Downloading gitdb-4.0.11-py3-none-any.whl (62 kB)\nCollecting smmap<6,>=3.0.1\n  Downloading smmap-5.0.1-py3-none-any.whl (24 kB)\nCollecting zipp>=0.5\n  Using cached zipp-3.17.0-py3-none-any.whl (7.4 kB)\nRequirement already satisfied: MarkupSafe>=2.0 in /databricks/python3/lib/python3.9/site-packages (from Jinja2<4,>=2.11->mlflow) (2.0.1)\nRequirement already satisfied: python-dateutil>=2.7 in /databricks/python3/lib/python3.9/site-packages (from matplotlib<4->mlflow) (2.8.2)\nRequirement already satisfied: fonttools>=4.22.0 in /databricks/python3/lib/python3.9/site-packages (from matplotlib<4->mlflow) (4.25.0)\nRequirement already satisfied: kiwisolver>=1.0.1 in /databricks/python3/lib/python3.9/site-packages (from matplotlib<4->mlflow) (1.3.2)\nRequirement already satisfied: pyparsing>=2.2.1 in /databricks/python3/lib/python3.9/site-packages (from matplotlib<4->mlflow) (3.0.4)\nRequirement already satisfied: cycler>=0.10 in /databricks/python3/lib/python3.9/site-packages (from matplotlib<4->mlflow) (0.11.0)\nRequirement already satisfied: pillow>=6.2.0 in /databricks/python3/lib/python3.9/site-packages (from matplotlib<4->mlflow) (9.0.1)\nRequirement already satisfied: idna<4,>=2.5 in /databricks/python3/lib/python3.9/site-packages (from requests<3,>=2.17.3->mlflow) (3.3)\nRequirement already satisfied: charset-normalizer~=2.0.0 in /databricks/python3/lib/python3.9/site-packages (from requests<3,>=2.17.3->mlflow) (2.0.4)\nRequirement already satisfied: certifi>=2017.4.17 in /databricks/python3/lib/python3.9/site-packages (from requests<3,>=2.17.3->mlflow) (2021.10.8)\nRequirement already satisfied: threadpoolctl>=2.0.0 in /databricks/python3/lib/python3.9/site-packages (from scikit-learn<2->mlflow) (2.2.0)\nRequirement already satisfied: joblib>=0.11 in /databricks/python3/lib/python3.9/site-packages (from scikit-learn<2->mlflow) (1.1.1)\nCollecting greenlet!=0.4.17\n  Downloading greenlet-3.0.3-cp39-cp39-manylinux_2_24_x86_64.manylinux_2_28_x86_64.whl (614 kB)\nCollecting typing-extensions>=4\n  Downloading typing_extensions-4.9.0-py3-none-any.whl (32 kB)\nCollecting MarkupSafe>=2.0\n  Downloading MarkupSafe-2.1.3-cp39-cp39-manylinux_2_17_x86_64.manylinux2014_x86_64.whl (25 kB)\nInstalling collected packages: zipp, typing-extensions, smmap, MarkupSafe, greenlet, Werkzeug, websocket-client, tabulate, sqlalchemy, pyjwt, oauthlib, Mako, Jinja2, itsdangerous, importlib-metadata, gitdb, click, blinker, sqlparse, querystring-parser, pyyaml, markdown, gunicorn, gitpython, Flask, docker, databricks-cli, cloudpickle, alembic, mlflow\n  Attempting uninstall: typing-extensions\n    Found existing installation: typing-extensions 4.1.1\n    Not uninstalling typing-extensions at /databricks/python3/lib/python3.9/site-packages, outside environment /local_disk0/.ephemeral_nfs/envs/pythonEnv-cb8ef12c-8266-4b2f-a22d-465864787d51\n    Can't uninstall 'typing-extensions'. No files were found to uninstall.\n  Attempting uninstall: MarkupSafe\n    Found existing installation: MarkupSafe 2.0.1\n    Not uninstalling markupsafe at /databricks/python3/lib/python3.9/site-packages, outside environment /local_disk0/.ephemeral_nfs/envs/pythonEnv-cb8ef12c-8266-4b2f-a22d-465864787d51\n    Can't uninstall 'MarkupSafe'. No files were found to uninstall.\n  Attempting uninstall: Jinja2\n    Found existing installation: Jinja2 2.11.3\n    Not uninstalling jinja2 at /databricks/python3/lib/python3.9/site-packages, outside environment /local_disk0/.ephemeral_nfs/envs/pythonEnv-cb8ef12c-8266-4b2f-a22d-465864787d51\n    Can't uninstall 'Jinja2'. No files were found to uninstall.\n  Attempting uninstall: click\n    Found existing installation: click 8.0.4\n    Not uninstalling click at /databricks/python3/lib/python3.9/site-packages, outside environment /local_disk0/.ephemeral_nfs/envs/pythonEnv-cb8ef12c-8266-4b2f-a22d-465864787d51\n    Can't uninstall 'click'. No files were found to uninstall.\nSuccessfully installed Flask-3.0.0 Jinja2-3.1.2 Mako-1.3.0 MarkupSafe-2.1.3 Werkzeug-3.0.1 alembic-1.13.1 blinker-1.7.0 click-8.1.7 cloudpickle-3.0.0 databricks-cli-0.18.0 docker-6.1.3 gitdb-4.0.11 gitpython-3.1.40 greenlet-3.0.3 gunicorn-21.2.0 importlib-metadata-7.0.1 itsdangerous-2.1.2 markdown-3.5.1 mlflow-2.9.2 oauthlib-3.2.2 pyjwt-2.8.0 pyyaml-6.0.1 querystring-parser-1.2.4 smmap-5.0.1 sqlalchemy-2.0.25 sqlparse-0.4.4 tabulate-0.9.0 typing-extensions-4.9.0 websocket-client-1.7.0 zipp-3.17.0\nPython interpreter will be restarted.\n"
     ]
    }
   ],
   "source": [
    "pip install mlflow"
   ]
  },
  {
   "cell_type": "code",
   "execution_count": 0,
   "metadata": {
    "application/vnd.databricks.v1+cell": {
     "cellMetadata": {
      "byteLimit": 2048000,
      "rowLimit": 10000
     },
     "inputWidgets": {},
     "nuid": "62e7df24-3ff0-469f-b682-94b3611fe338",
     "showTitle": false,
     "title": ""
    }
   },
   "outputs": [
    {
     "output_type": "stream",
     "name": "stdout",
     "output_type": "stream",
     "text": [
      "Python interpreter will be restarted.\nCollecting spark\n  Downloading spark-0.2.1.tar.gz (41 kB)\nBuilding wheels for collected packages: spark\n  Building wheel for spark (setup.py): started\n  Building wheel for spark (setup.py): finished with status 'done'\n  Created wheel for spark: filename=spark-0.2.1-py3-none-any.whl size=58763 sha256=efb4544d3e8447a577f8c68854c4f402a686472aebbb484d04e5d273b917ceb1\n  Stored in directory: /root/.cache/pip/wheels/bc/0f/6c/b41528ca0fd4d46513185e90da91bc1c484bba6138641c5a62\nSuccessfully built spark\nInstalling collected packages: spark\nSuccessfully installed spark-0.2.1\nPython interpreter will be restarted.\n"
     ]
    }
   ],
   "source": [
    "pip install spark"
   ]
  },
  {
   "cell_type": "code",
   "execution_count": 0,
   "metadata": {
    "application/vnd.databricks.v1+cell": {
     "cellMetadata": {
      "byteLimit": 2048000,
      "rowLimit": 10000
     },
     "inputWidgets": {},
     "nuid": "84bc428f-76af-43b0-ba5b-b9be37959a3b",
     "showTitle": false,
     "title": ""
    }
   },
   "outputs": [
    {
     "output_type": "display_data",
     "data": {
      "application/vnd.databricks.v1+bamboolib_hint": "{\"pd.DataFrames\": [], \"version\": \"0.0.1\"}",
      "text/plain": []
     },
     "metadata": {},
     "output_type": "display_data"
    }
   ],
   "source": [
    "import numpy as np\n",
    "import pandas as pd\n",
    "import matplotlib #\n",
    "import matplotlib.pyplot as plt\n",
    "import seaborn as sns\n",
    "import sklearn #\n",
    "import spark\n",
    "from sklearn.linear_model import LogisticRegression\n",
    "from sklearn.model_selection import train_test_split\n",
    "from sklearn.preprocessing import StandardScaler\n",
    "from sklearn.metrics import roc_auc_score, plot_roc_curve,confusion_matrix\n",
    "from sklearn.model_selection import KFold\n",
    "import mlflow"
   ]
  },
  {
   "cell_type": "code",
   "execution_count": 0,
   "metadata": {
    "application/vnd.databricks.v1+cell": {
     "cellMetadata": {
      "byteLimit": 2048000,
      "rowLimit": 10000
     },
     "inputWidgets": {},
     "nuid": "f91905a6-9af4-4cbd-bb6b-513e93b56016",
     "showTitle": false,
     "title": ""
    }
   },
   "outputs": [
    {
     "output_type": "stream",
     "name": "stdout",
     "output_type": "stream",
     "text": [
      "Collecting mlflow==1.20.2\r\n  Downloading mlflow-1.20.2-py3-none-any.whl (14.6 MB)\r\n\u001B[?25l\r\u001B[K     |                                | 10 kB 20.7 MB/s eta 0:00:01\r\u001B[K     |                                | 20 kB 7.4 MB/s eta 0:00:02\r\u001B[K     |                                | 30 kB 10.4 MB/s eta 0:00:02\r\u001B[K     |                                | 40 kB 7.7 MB/s eta 0:00:02\r\u001B[K     |▏                               | 51 kB 7.0 MB/s eta 0:00:03\r\u001B[K     |▏                               | 61 kB 8.2 MB/s eta 0:00:02\r\u001B[K     |▏                               | 71 kB 7.9 MB/s eta 0:00:02\r\u001B[K     |▏                               | 81 kB 7.5 MB/s eta 0:00:02\r\u001B[K     |▏                               | 92 kB 8.2 MB/s eta 0:00:02\r\u001B[K     |▎                               | 102 kB 7.5 MB/s eta 0:00:02\r\u001B[K     |▎                               | 112 kB 7.5 MB/s eta 0:00:02\r\u001B[K     |▎                               | 122 kB 7.5 MB/s eta 0:00:02\r\u001B[K     |▎                               | 133 kB 7.5 MB/s eta 0:00:02\r\u001B[K     |▎                               | 143 kB 7.5 MB/s eta 0:00:02\r\u001B[K     |▍                               | 153 kB 7.5 MB/s eta 0:00:02\r\u001B[K     |▍                               | 163 kB 7.5 MB/s eta 0:00:02\r\u001B[K     |▍                               | 174 kB 7.5 MB/s eta 0:00:02\r\u001B[K     |▍                               | 184 kB 7.5 MB/s eta 0:00:02\r\u001B[K     |▍                               | 194 kB 7.5 MB/s eta 0:00:02\r\u001B[K     |▌                               | 204 kB 7.5 MB/s eta 0:00:02\r\u001B[K     |▌                               | 215 kB 7.5 MB/s eta 0:00:02\r\u001B[K     |▌                               | 225 kB 7.5 MB/s eta 0:00:02\r\u001B[K     |▌                               | 235 kB 7.5 MB/s eta 0:00:02\r\u001B[K     |▌                               | 245 kB 7.5 MB/s eta 0:00:02\r\u001B[K     |▋                               | 256 kB 7.5 MB/s eta 0:00:02\r\u001B[K     |▋                               | 266 kB 7.5 MB/s eta 0:00:02\r\u001B[K     |▋                               | 276 kB 7.5 MB/s eta 0:00:02\r\u001B[K     |▋                               | 286 kB 7.5 MB/s eta 0:00:02\r\u001B[K     |▋                               | 296 kB 7.5 MB/s eta 0:00:02\r\u001B[K     |▊                               | 307 kB 7.5 MB/s eta 0:00:02\r\u001B[K     |▊                               | 317 kB 7.5 MB/s eta 0:00:02\r\u001B[K     |▊                               | 327 kB 7.5 MB/s eta 0:00:02\r\u001B[K     |▊                               | 337 kB 7.5 MB/s eta 0:00:02\r\u001B[K     |▊                               | 348 kB 7.5 MB/s eta 0:00:02\r\u001B[K     |▉                               | 358 kB 7.5 MB/s eta 0:00:02\r\u001B[K     |▉                               | 368 kB 7.5 MB/s eta 0:00:02\r\u001B[K     |▉                               | 378 kB 7.5 MB/s eta 0:00:02\r\u001B[K     |▉                               | 389 kB 7.5 MB/s eta 0:00:02\r\u001B[K     |▉                               | 399 kB 7.5 MB/s eta 0:00:02\r\u001B[K     |█                               | 409 kB 7.5 MB/s eta 0:00:02\r\u001B[K     |█                               | 419 kB 7.5 MB/s eta 0:00:02\r\u001B[K     |█                               | 430 kB 7.5 MB/s eta 0:00:02\r\u001B[K     |█                               | 440 kB 7.5 MB/s eta 0:00:02\r\u001B[K     |█                               | 450 kB 7.5 MB/s eta 0:00:02\r\u001B[K     |█                               | 460 kB 7.5 MB/s eta 0:00:02\r\u001B[K     |█                               | 471 kB 7.5 MB/s eta 0:00:02\r\u001B[K     |█                               | 481 kB 7.5 MB/s eta 0:00:02\r\u001B[K     |█                               | 491 kB 7.5 MB/s eta 0:00:02\r\u001B[K     |█                               | 501 kB 7.5 MB/s eta 0:00:02\r\u001B[K     |█▏                              | 512 kB 7.5 MB/s eta 0:00:02\r\u001B[K     |█▏                              | 522 kB 7.5 MB/s eta 0:00:02\r\u001B[K     |█▏                              | 532 kB 7.5 MB/s eta 0:00:02\r\u001B[K     |█▏                              | 542 kB 7.5 MB/s eta 0:00:02\r\u001B[K     |█▏                              | 552 kB 7.5 MB/s eta 0:00:02\r\u001B[K     |█▎                              | 563 kB 7.5 MB/s eta 0:00:02\r\u001B[K     |█▎                              | 573 kB 7.5 MB/s eta 0:00:02\r\u001B[K     |█▎                              | 583 kB 7.5 MB/s eta 0:00:02\r\u001B[K     |█▎                              | 593 kB 7.5 MB/s eta 0:00:02\r\u001B[K     |█▎                              | 604 kB 7.5 MB/s eta 0:00:02\r\u001B[K     |█▍                              | 614 kB 7.5 MB/s eta 0:00:02\r\u001B[K     |█▍                              | 624 kB 7.5 MB/s eta 0:00:02\r\u001B[K     |█▍                              | 634 kB 7.5 MB/s eta 0:00:02\r\u001B[K     |█▍                              | 645 kB 7.5 MB/s eta 0:00:02\r\u001B[K     |█▍                              | 655 kB 7.5 MB/s eta 0:00:02\r\u001B[K     |█▌                              | 665 kB 7.5 MB/s eta 0:00:02\r\u001B[K     |█▌                              | 675 kB 7.5 MB/s eta 0:00:02\r\u001B[K     |█▌                              | 686 kB 7.5 MB/s eta 0:00:02\r\u001B[K     |█▌                              | 696 kB 7.5 MB/s eta 0:00:02\r\u001B[K     |█▌                              | 706 kB 7.5 MB/s eta 0:00:02\r\u001B[K     |█▋                              | 716 kB 7.5 MB/s eta 0:00:02\r\u001B[K     |█▋                              | 727 kB 7.5 MB/s eta 0:00:02\r\u001B[K     |█▋                              | 737 kB 7.5 MB/s eta 0:00:02\r\u001B[K     |█▋                              | 747 kB 7.5 MB/s eta 0:00:02\r\u001B[K     |█▋                              | 757 kB 7.5 MB/s eta 0:00:02\r\u001B[K     |█▊                              | 768 kB 7.5 MB/s eta 0:00:02\r\u001B[K     |█▊                              | 778 kB 7.5 MB/s eta 0:00:02\r\u001B[K     |█▊                              | 788 kB 7.5 MB/s eta 0:00:02\r\u001B[K     |█▊                              | 798 kB 7.5 MB/s eta 0:00:02\r\u001B[K     |█▊                              | 808 kB 7.5 MB/s eta 0:00:02\r\u001B[K     |█▉                              | 819 kB 7.5 MB/s eta 0:00:02\r\u001B[K     |█▉                              | 829 kB 7.5 MB/s eta 0:00:02\r\u001B[K     |█▉                              | 839 kB 7.5 MB/s eta 0:00:02\r\u001B[K     |█▉                              | 849 kB 7.5 MB/s eta 0:00:02\r\u001B[K     |█▉                              | 860 kB 7.5 MB/s eta 0:00:02\r\u001B[K     |██                              | 870 kB 7.5 MB/s eta 0:00:02\r\u001B[K     |██                              | 880 kB 7.5 MB/s eta 0:00:02\r\u001B[K     |██                              | 890 kB 7.5 MB/s eta 0:00:02\r\u001B[K     |██                              | 901 kB 7.5 MB/s eta 0:00:02\r\u001B[K     |██                              | 911 kB 7.5 MB/s eta 0:00:02\r\u001B[K     |██                              | 921 kB 7.5 MB/s eta 0:00:02\r\u001B[K     |██                              | 931 kB 7.5 MB/s eta 0:00:02\r\u001B[K     |██                              | 942 kB 7.5 MB/s eta 0:00:02\r\u001B[K     |██                              | 952 kB 7.5 MB/s eta 0:00:02\r\u001B[K     |██                              | 962 kB 7.5 MB/s eta 0:00:02\r\u001B[K     |██▏                             | 972 kB 7.5 MB/s eta 0:00:02\r\u001B[K     |██▏                             | 983 kB 7.5 MB/s eta 0:00:02\r\u001B[K     |██▏                             | 993 kB 7.5 MB/s eta 0:00:02\r\u001B[K     |██▏                             | 1.0 MB 7.5 MB/s eta 0:00:02\r\u001B[K     |██▏                             | 1.0 MB 7.5 MB/s eta 0:00:02\r\u001B[K     |██▎                             | 1.0 MB 7.5 MB/s eta 0:00:02\r\u001B[K     |██▎                             | 1.0 MB 7.5 MB/s eta 0:00:02\r\u001B[K     |██▎                             | 1.0 MB 7.5 MB/s eta 0:00:02\r\u001B[K     |██▎                             | 1.1 MB 7.5 MB/s eta 0:00:02\r\u001B[K     |██▎                             | 1.1 MB 7.5 MB/s eta 0:00:02\r\u001B[K     |██▍                             | 1.1 MB 7.5 MB/s eta 0:00:02\r\u001B[K     |██▍                             | 1.1 MB 7.5 MB/s eta 0:00:02\r\u001B[K     |██▍                             | 1.1 MB 7.5 MB/s eta 0:00:02\r\u001B[K     |██▍                             | 1.1 MB 7.5 MB/s eta 0:00:02\r\u001B[K     |██▍                             | 1.1 MB 7.5 MB/s eta 0:00:02\r\u001B[K     |██▌                             | 1.1 MB 7.5 MB/s eta 0:00:02\r\u001B[K     |██▌                             | 1.1 MB 7.5 MB/s eta 0:00:02\r\u001B[K     |██▌                             | 1.1 MB 7.5 MB/s eta 0:00:02\r\u001B[K     |██▌                             | 1.2 MB 7.5 MB/s eta 0:00:02\r\u001B[K     |██▌                             | 1.2 MB 7.5 MB/s eta 0:00:02\r\u001B[K     |██▋                             | 1.2 MB 7.5 MB/s eta 0:00:02\r\u001B[K     |██▋                             | 1.2 MB 7.5 MB/s eta 0:00:02\r\u001B[K     |██▋                             | 1.2 MB 7.5 MB/s eta 0:00:02\r\u001B[K     |██▋                             | 1.2 MB 7.5 MB/s eta 0:00:02\r\u001B[K     |██▋                             | 1.2 MB 7.5 MB/s eta 0:00:02\r\u001B[K     |██▊                             | 1.2 MB 7.5 MB/s eta 0:00:02\r\u001B[K     |██▊                             | 1.2 MB 7.5 MB/s eta 0:00:02\r\u001B[K     |██▊                             | 1.2 MB 7.5 MB/s eta 0:00:02\r\u001B[K     |██▊                             | 1.3 MB 7.5 MB/s eta 0:00:02\r\u001B[K     |██▊                             | 1.3 MB 7.5 MB/s eta 0:00:02\r\u001B[K     |██▉                             | 1.3 MB 7.5 MB/s eta 0:00:02\r\u001B[K     |██▉                             | 1.3 MB 7.5 MB/s eta 0:00:02\r\u001B[K     |██▉                             | 1.3 MB 7.5 MB/s eta 0:00:02\r\u001B[K     |██▉                             | 1.3 MB 7.5 MB/s eta 0:00:02\r\u001B[K     |███                             | 1.3 MB 7.5 MB/s eta 0:00:02\r\u001B[K     |███                             | 1.3 MB 7.5 MB/s eta 0:00:02\r\u001B[K     |███                             | 1.3 MB 7.5 MB/s eta 0:00:02\r\u001B[K     |███                             | 1.4 MB 7.5 MB/s eta 0:00:02\r\u001B[K     |███                             | 1.4 MB 7.5 MB/s eta 0:00:02\r\u001B[K     |███                             | 1.4 MB 7.5 MB/s eta 0:00:02\r\u001B[K     |███                             | 1.4 MB 7.5 MB/s eta 0:00:02\r\u001B[K     |███                             | 1.4 MB 7.5 MB/s eta 0:00:02\r\u001B[K     |███                             | 1.4 MB 7.5 MB/s eta 0:00:02\r\u001B[K     |███                             | 1.4 MB 7.5 MB/s eta 0:00:02\r\u001B[K     |███▏                            | 1.4 MB 7.5 MB/s eta 0:00:02\r\u001B[K     |███▏                            | 1.4 MB 7.5 MB/s eta 0:00:02\r\u001B[K     |███▏                            | 1.4 MB 7.5 MB/s eta 0:00:02\r\u001B[K     |███▏                            | 1.5 MB 7.5 MB/s eta 0:00:02\r\u001B[K     |███▏                            | 1.5 MB 7.5 MB/s eta 0:00:02\r\u001B[K     |███▎                            | 1.5 MB 7.5 MB/s eta 0:00:02\r\u001B[K     |███▎                            | 1.5 MB 7.5 MB/s eta 0:00:02\r\u001B[K     |███▎                            | 1.5 MB 7.5 MB/s eta 0:00:02\r\u001B[K     |███▎                            | 1.5 MB 7.5 MB/s eta 0:00:02\r\u001B[K     |███▎                            | 1.5 MB 7.5 MB/s eta 0:00:02\r\u001B[K     |███▍                            | 1.5 MB 7.5 MB/s eta 0:00:02\r\u001B[K     |███▍                            | 1.5 MB 7.5 MB/s eta 0:00:02\r\u001B[K     |███▍                            | 1.5 MB 7.5 MB/s eta 0:00:02\r\u001B[K     |███▍                            | 1.6 MB 7.5 MB/s eta 0:00:02\r\u001B[K     |███▍                            | 1.6 MB 7.5 MB/s eta 0:00:02\r\u001B[K     |███▌                            | 1.6 MB 7.5 MB/s eta 0:00:02\r\u001B[K     |███▌                            | 1.6 MB 7.5 MB/s eta 0:00:02\r\u001B[K     |███▌                            | 1.6 MB 7.5 MB/s eta 0:00:02\r\u001B[K     |███▌                            | 1.6 MB 7.5 MB/s eta 0:00:02\r\u001B[K     |███▌                            | 1.6 MB 7.5 MB/s eta 0:00:02\r\u001B[K     |███▋                            | 1.6 MB 7.5 MB/s eta 0:00:02\r\u001B[K     |███▋                            | 1.6 MB 7.5 MB/s eta 0:00:02\r\u001B[K     |███▋                            | 1.6 MB 7.5 MB/s eta 0:00:02\r\u001B[K     |███▋                            | 1.7 MB 7.5 MB/s eta 0:00:02\r\u001B[K     |███▋                            | 1.7 MB 7.5 MB/s eta 0:00:02\r\u001B[K     |███▊                            | 1.7 MB 7.5 MB/s eta 0:00:02\r\u001B[K     |███▊                            | 1.7 MB 7.5 MB/s eta 0:00:02\r\u001B[K     |███▊                            | 1.7 MB 7.5 MB/s eta 0:00:02\r\u001B[K     |███▊                            | 1.7 MB 7.5 MB/s eta 0:00:02\r\u001B[K     |███▊                            | 1.7 MB 7.5 MB/s eta 0:00:02\r\u001B[K     |███▉                            | 1.7 MB 7.5 MB/s eta 0:00:02\r\u001B[K     |███▉                            | 1.7 MB 7.5 MB/s eta 0:00:02\r\u001B[K     |███▉                            | 1.8 MB 7.5 MB/s eta 0:00:02\r\u001B[K     |███▉                            | 1.8 MB 7.5 MB/s eta 0:00:02\r\u001B[K     |███▉                            | 1.8 MB 7.5 MB/s eta 0:00:02\r\u001B[K     |████                            | 1.8 MB 7.5 MB/s eta 0:00:02\r\u001B[K     |████                            | 1.8 MB 7.5 MB/s eta 0:00:02\r\u001B[K     |████                            | 1.8 MB 7.5 MB/s eta 0:00:02\r\u001B[K     |████                            | 1.8 MB 7.5 MB/s eta 0:00:02\r\u001B[K     |████                            | 1.8 MB 7.5 MB/s eta 0:00:02\r\u001B[K     |████                            | 1.8 MB 7.5 MB/s eta 0:00:02\r\u001B[K     |████                            | 1.8 MB 7.5 MB/s eta 0:00:02\r\u001B[K     |████                            | 1.9 MB 7.5 MB/s eta 0:00:02\r\u001B[K     |████                            | 1.9 MB 7.5 MB/s eta 0:00:02\r\u001B[K     |████                            | 1.9 MB 7.5 MB/s eta 0:00:02\r\u001B[K     |████▏                           | 1.9 MB 7.5 MB/s eta 0:00:02\r\u001B[K     |████▏                           | 1.9 MB 7.5 MB/s eta 0:00:02\r\u001B[K     |████▏                           | 1.9 MB 7.5 MB/s eta 0:00:02\r\u001B[K     |████▏                           | 1.9 MB 7.5 MB/s eta 0:00:02\r\u001B[K     |████▏                           | 1.9 MB 7.5 MB/s eta 0:00:02\r\u001B[K     |████▎                           | 1.9 MB 7.5 MB/s eta 0:00:02\r\u001B[K     |████▎                           | 1.9 MB 7.5 MB/s eta 0:00:02\r\u001B[K     |████▎                           | 2.0 MB 7.5 MB/s eta 0:00:02\r\u001B[K     |████▎                           | 2.0 MB 7.5 MB/s eta 0:00:02\r\u001B[K     |████▎                           | 2.0 MB 7.5 MB/s eta 0:00:02\r\u001B[K     |████▍                           | 2.0 MB 7.5 MB/s eta 0:00:02\r\u001B[K     |████▍                           | 2.0 MB 7.5 MB/s eta 0:00:02\r\u001B[K     |████▍                           | 2.0 MB 7.5 MB/s eta 0:00:02\r\u001B[K     |████▍                           | 2.0 MB 7.5 MB/s eta 0:00:02\r\u001B[K     |████▍                           | 2.0 MB 7.5 MB/s eta 0:00:02\r\u001B[K     |████▌                           | 2.0 MB 7.5 MB/s eta 0:00:02\r\u001B[K     |████▌                           | 2.0 MB 7.5 MB/s eta 0:00:02\r\u001B[K     |████▌                           | 2.1 MB 7.5 MB/s eta 0:00:02\r\u001B[K     |████▌                           | 2.1 MB 7.5 MB/s eta 0:00:02\r\u001B[K     |████▌                           | 2.1 MB 7.5 MB/s eta 0:00:02\r\u001B[K     |████▋                           | 2.1 MB 7.5 MB/s eta 0:00:02\r\u001B[K     |████▋                           | 2.1 MB 7.5 MB/s eta 0:00:02\r\u001B[K     |████▋                           | 2.1 MB 7.5 MB/s eta 0:00:02\r\u001B[K     |████▋                           | 2.1 MB 7.5 MB/s eta 0:00:02\r\u001B[K     |████▋                           | 2.1 MB 7.5 MB/s eta 0:00:02\r\u001B[K     |████▊                           | 2.1 MB 7.5 MB/s eta 0:00:02\r\u001B[K     |████▊                           | 2.2 MB 7.5 MB/s eta 0:00:02\r\u001B[K     |████▊                           | 2.2 MB 7.5 MB/s eta 0:00:02\r\u001B[K     |████▊                           | 2.2 MB 7.5 MB/s eta 0:00:02\r\u001B[K     |████▊                           | 2.2 MB 7.5 MB/s eta 0:00:02\r\u001B[K     |████▉                           | 2.2 MB 7.5 MB/s eta 0:00:02\r\u001B[K     |████▉                           | 2.2 MB 7.5 MB/s eta 0:00:02\r\u001B[K     |████▉                           | 2.2 MB 7.5 MB/s eta 0:00:02\r\u001B[K     |████▉                           | 2.2 MB 7.5 MB/s eta 0:00:02\r\u001B[K     |████▉                           | 2.2 MB 7.5 MB/s eta 0:00:02\r\u001B[K     |█████                           | 2.2 MB 7.5 MB/s eta 0:00:02\r\u001B[K     |█████                           | 2.3 MB 7.5 MB/s eta 0:00:02\r\u001B[K     |█████                           | 2.3 MB 7.5 MB/s eta 0:00:02\r\u001B[K     |█████                           | 2.3 MB 7.5 MB/s eta 0:00:02\r\u001B[K     |█████                           | 2.3 MB 7.5 MB/s eta 0:00:02\r\u001B[K     |█████                           | 2.3 MB 7.5 MB/s eta 0:00:02\r\u001B[K     |█████                           | 2.3 MB 7.5 MB/s eta 0:00:02\r\u001B[K     |█████                           | 2.3 MB 7.5 MB/s eta 0:00:02\r\u001B[K     |█████                           | 2.3 MB 7.5 MB/s eta 0:00:02\r\u001B[K     |█████                           | 2.3 MB 7.5 MB/s eta 0:00:02\r\u001B[K     |█████▏                          | 2.3 MB 7.5 MB/s eta 0:00:02\r\u001B[K     |█████▏                          | 2.4 MB 7.5 MB/s eta 0:00:02\r\u001B[K     |█████▏                          | 2.4 MB 7.5 MB/s eta 0:00:02\r\u001B[K     |█████▏                          | 2.4 MB 7.5 MB/s eta 0:00:02\r\u001B[K     |█████▏                          | 2.4 MB 7.5 MB/s eta 0:00:02\r\u001B[K     |█████▎                          | 2.4 MB 7.5 MB/s eta 0:00:02\r\u001B[K     |█████▎                          | 2.4 MB 7.5 MB/s eta 0:00:02\r\u001B[K     |█████▎                          | 2.4 MB 7.5 MB/s eta 0:00:02\r\u001B[K     |█████▎                          | 2.4 MB 7.5 MB/s eta 0:00:02\r\u001B[K     |█████▎                          | 2.4 MB 7.5 MB/s eta 0:00:02\r\u001B[K     |█████▍                          | 2.4 MB 7.5 MB/s eta 0:00:02\r\u001B[K     |█████▍                          | 2.5 MB 7.5 MB/s eta 0:00:02\r\u001B[K     |█████▍                          | 2.5 MB 7.5 MB/s eta 0:00:02\r\u001B[K     |█████▍                          | 2.5 MB 7.5 MB/s eta 0:00:02\r\u001B[K     |█████▍                          | 2.5 MB 7.5 MB/s eta 0:00:02\r\u001B[K     |█████▌                          | 2.5 MB 7.5 MB/s eta 0:00:02\r\u001B[K     |█████▌                          | 2.5 MB 7.5 MB/s eta 0:00:02\r\u001B[K     |█████▌                          | 2.5 MB 7.5 MB/s eta 0:00:02\r\u001B[K     |█████▌                          | 2.5 MB 7.5 MB/s eta 0:00:02\r\u001B[K     |█████▌                          | 2.5 MB 7.5 MB/s eta 0:00:02\r\u001B[K     |█████▋                          | 2.5 MB 7.5 MB/s eta 0:00:02\r\u001B[K     |█████▋                          | 2.6 MB 7.5 MB/s eta 0:00:02\r\u001B[K     |█████▋                          | 2.6 MB 7.5 MB/s eta 0:00:02\r\u001B[K     |█████▋                          | 2.6 MB 7.5 MB/s eta 0:00:02\r\u001B[K     |█████▊                          | 2.6 MB 7.5 MB/s eta 0:00:02\r\u001B[K     |█████▊                          | 2.6 MB 7.5 MB/s eta 0:00:02\r\u001B[K     |█████▊                          | 2.6 MB 7.5 MB/s eta 0:00:02\r\u001B[K     |█████▊                          | 2.6 MB 7.5 MB/s eta 0:00:02\r\u001B[K     |█████▊                          | 2.6 MB 7.5 MB/s eta 0:00:02\r\u001B[K     |█████▉                          | 2.6 MB 7.5 MB/s eta 0:00:02\r\u001B[K     |█████▉                          | 2.7 MB 7.5 MB/s eta 0:00:02\r\u001B[K     |█████▉                          | 2.7 MB 7.5 MB/s eta 0:00:02\r\u001B[K     |█████▉                          | 2.7 MB 7.5 MB/s eta 0:00:02\r\u001B[K     |█████▉                          | 2.7 MB 7.5 MB/s eta 0:00:02\r\u001B[K     |██████                          | 2.7 MB 7.5 MB/s eta 0:00:02\r\u001B[K     |██████                          | 2.7 MB 7.5 MB/s eta 0:00:02\r\u001B[K     |██████                          | 2.7 MB 7.5 MB/s eta 0:00:02\r\u001B[K     |██████                          | 2.7 MB 7.5 MB/s eta 0:00:02\r\u001B[K     |██████                          | 2.7 MB 7.5 MB/s eta 0:00:02\r\u001B[K     |██████                          | 2.7 MB 7.5 MB/s eta 0:00:02\r\u001B[K     |██████                          | 2.8 MB 7.5 MB/s eta 0:00:02\r\u001B[K     |██████                          | 2.8 MB 7.5 MB/s eta 0:00:02\r\u001B[K     |██████                          | 2.8 MB 7.5 MB/s eta 0:00:02\r\u001B[K     |██████                          | 2.8 MB 7.5 MB/s eta 0:00:02\r\u001B[K     |██████▏                         | 2.8 MB 7.5 MB/s eta 0:00:02\r\u001B[K     |██████▏                         | 2.8 MB 7.5 MB/s eta 0:00:02\r\u001B[K     |██████▏                         | 2.8 MB 7.5 MB/s eta 0:00:02\r\u001B[K     |██████▏                         | 2.8 MB 7.5 MB/s eta 0:00:02\r\u001B[K     |██████▏                         | 2.8 MB 7.5 MB/s eta 0:00:02\r\u001B[K     |██████▎                         | 2.8 MB 7.5 MB/s eta 0:00:02\r\u001B[K     |██████▎                         | 2.9 MB 7.5 MB/s eta 0:00:02\r\u001B[K     |██████▎                         | 2.9 MB 7.5 MB/s eta 0:00:02\r\u001B[K     |██████▎                         | 2.9 MB 7.5 MB/s eta 0:00:02\r\u001B[K     |██████▎                         | 2.9 MB 7.5 MB/s eta 0:00:02\r\u001B[K     |██████▍                         | 2.9 MB 7.5 MB/s eta 0:00:02\r\u001B[K     |██████▍                         | 2.9 MB 7.5 MB/s eta 0:00:02\r\u001B[K     |██████▍                         | 2.9 MB 7.5 MB/s eta 0:00:02\r\u001B[K     |██████▍                         | 2.9 MB 7.5 MB/s eta 0:00:02\r\u001B[K     |██████▍                         | 2.9 MB 7.5 MB/s eta 0:00:02\r\u001B[K     |██████▌                         | 2.9 MB 7.5 MB/s eta 0:00:02\r\u001B[K     |██████▌                         | 3.0 MB 7.5 MB/s eta 0:00:02\r\u001B[K     |██████▌                         | 3.0 MB 7.5 MB/s eta 0:00:02\r\u001B[K     |██████▌                         | 3.0 MB 7.5 MB/s eta 0:00:02\r\u001B[K     |██████▌                         | 3.0 MB 7.5 MB/s eta 0:00:02\r\u001B[K     |██████▋                         | 3.0 MB 7.5 MB/s eta 0:00:02\r\u001B[K     |██████▋                         | 3.0 MB 7.5 MB/s eta 0:00:02\r\u001B[K     |██████▋                         | 3.0 MB 7.5 MB/s eta 0:00:02\r\u001B[K     |██████▋                         | 3.0 MB 7.5 MB/s eta 0:00:02\r\u001B[K     |██████▋                         | 3.0 MB 7.5 MB/s eta 0:00:02\r\u001B[K     |██████▊                         | 3.1 MB 7.5 MB/s eta 0:00:02\r\u001B[K     |██████▊                         | 3.1 MB 7.5 MB/s eta 0:00:02\r\u001B[K     |██████▊                         | 3.1 MB 7.5 MB/s eta 0:00:02\r\u001B[K     |██████▊                         | 3.1 MB 7.5 MB/s eta 0:00:02\r\u001B[K     |██████▊                         | 3.1 MB 7.5 MB/s eta 0:00:02\r\u001B[K     |██████▉                         | 3.1 MB 7.5 MB/s eta 0:00:02\r\u001B[K     |██████▉                         | 3.1 MB 7.5 MB/s eta 0:00:02\r\u001B[K     |██████▉                         | 3.1 MB 7.5 MB/s eta 0:00:02\r\u001B[K     |██████▉                         | 3.1 MB 7.5 MB/s eta 0:00:02\r\u001B[K     |██████▉                         | 3.1 MB 7.5 MB/s eta 0:00:02\r\u001B[K     |███████                         | 3.2 MB 7.5 MB/s eta 0:00:02\r\u001B[K     |███████                         | 3.2 MB 7.5 MB/s eta 0:00:02\r\u001B[K     |███████                         | 3.2 MB 7.5 MB/s eta 0:00:02\r\u001B[K     |███████                         | 3.2 MB 7.5 MB/s eta 0:00:02\r\u001B[K     |███████                         | 3.2 MB 7.5 MB/s eta 0:00:02\r\u001B[K     |███████                         | 3.2 MB 7.5 MB/s eta 0:00:02\r\u001B[K     |███████                         | 3.2 MB 7.5 MB/s eta 0:00:02\r\u001B[K     |███████                         | 3.2 MB 7.5 MB/s eta 0:00:02\r\u001B[K     |███████                         | 3.2 MB 7.5 MB/s eta 0:00:02\r\u001B[K     |███████                         | 3.2 MB 7.5 MB/s eta 0:00:02\r\u001B[K     |███████▏                        | 3.3 MB 7.5 MB/s eta 0:00:02\r\u001B[K     |███████▏                        | 3.3 MB 7.5 MB/s eta 0:00:02\r\u001B[K     |███████▏                        | 3.3 MB 7.5 MB/s eta 0:00:02\r\u001B[K     |███████▏                        | 3.3 MB 7.5 MB/s eta 0:00:02\r\u001B[K     |███████▏                        | 3.3 MB 7.5 MB/s eta 0:00:02\r\u001B[K     |███████▎                        | 3.3 MB 7.5 MB/s eta 0:00:02\r\u001B[K     |███████▎                        | 3.3 MB 7.5 MB/s eta 0:00:02\r\u001B[K     |███████▎                        | 3.3 MB 7.5 MB/s eta 0:00:02\r\u001B[K     |███████▎                        | 3.3 MB 7.5 MB/s eta 0:00:02\r\u001B[K     |███████▎                        | 3.3 MB 7.5 MB/s eta 0:00:02\r\u001B[K     |███████▍                        | 3.4 MB 7.5 MB/s eta 0:00:02\r\u001B[K     |███████▍                        | 3.4 MB 7.5 MB/s eta 0:00:02\r\u001B[K     |███████▍                        | 3.4 MB 7.5 MB/s eta 0:00:02\r\u001B[K     |███████▍                        | 3.4 MB 7.5 MB/s eta 0:00:02\r\u001B[K     |███████▍                        | 3.4 MB 7.5 MB/s eta 0:00:02\r\u001B[K     |███████▌                        | 3.4 MB 7.5 MB/s eta 0:00:02\r\u001B[K     |███████▌                        | 3.4 MB 7.5 MB/s eta 0:00:02\r\u001B[K     |███████▌                        | 3.4 MB 7.5 MB/s eta 0:00:02\r\u001B[K     |███████▌                        | 3.4 MB 7.5 MB/s eta 0:00:02\r\u001B[K     |███████▌                        | 3.5 MB 7.5 MB/s eta 0:00:02\r\u001B[K     |███████▋                        | 3.5 MB 7.5 MB/s eta 0:00:02\r\u001B[K     |███████▋                        | 3.5 MB 7.5 MB/s eta 0:00:02\r\u001B[K     |███████▋                        | 3.5 MB 7.5 MB/s eta 0:00:02\r\u001B[K     |███████▋                        | 3.5 MB 7.5 MB/s eta 0:00:02\r\u001B[K     |███████▋                        | 3.5 MB 7.5 MB/s eta 0:00:02\r\u001B[K     |███████▊                        | 3.5 MB 7.5 MB/s eta 0:00:02\r\u001B[K     |███████▊                        | 3.5 MB 7.5 MB/s eta 0:00:02\r\u001B[K     |███████▊                        | 3.5 MB 7.5 MB/s eta 0:00:02\r\u001B[K     |███████▊                        | 3.5 MB 7.5 MB/s eta 0:00:02\r\u001B[K     |███████▊                        | 3.6 MB 7.5 MB/s eta 0:00:02\r\u001B[K     |███████▉                        | 3.6 MB 7.5 MB/s eta 0:00:02\r\u001B[K     |███████▉                        | 3.6 MB 7.5 MB/s eta 0:00:02\r\u001B[K     |███████▉                        | 3.6 MB 7.5 MB/s eta 0:00:02\r\u001B[K     |███████▉                        | 3.6 MB 7.5 MB/s eta 0:00\n\n*** WARNING: max output size exceeded, skipping output. ***\n\n eta 0:00:01\r\u001B[K     |█████████████████████████████▍  | 13.4 MB 7.5 MB/s eta 0:00:01\r\u001B[K     |█████████████████████████████▍  | 13.5 MB 7.5 MB/s eta 0:00:01\r\u001B[K     |█████████████████████████████▌  | 13.5 MB 7.5 MB/s eta 0:00:01\r\u001B[K     |█████████████████████████████▌  | 13.5 MB 7.5 MB/s eta 0:00:01\r\u001B[K     |█████████████████████████████▌  | 13.5 MB 7.5 MB/s eta 0:00:01\r\u001B[K     |█████████████████████████████▌  | 13.5 MB 7.5 MB/s eta 0:00:01\r\u001B[K     |█████████████████████████████▌  | 13.5 MB 7.5 MB/s eta 0:00:01\r\u001B[K     |█████████████████████████████▋  | 13.5 MB 7.5 MB/s eta 0:00:01\r\u001B[K     |█████████████████████████████▋  | 13.5 MB 7.5 MB/s eta 0:00:01\r\u001B[K     |█████████████████████████████▋  | 13.5 MB 7.5 MB/s eta 0:00:01\r\u001B[K     |█████████████████████████████▋  | 13.5 MB 7.5 MB/s eta 0:00:01\r\u001B[K     |█████████████████████████████▋  | 13.6 MB 7.5 MB/s eta 0:00:01\r\u001B[K     |█████████████████████████████▊  | 13.6 MB 7.5 MB/s eta 0:00:01\r\u001B[K     |█████████████████████████████▊  | 13.6 MB 7.5 MB/s eta 0:00:01\r\u001B[K     |█████████████████████████████▊  | 13.6 MB 7.5 MB/s eta 0:00:01\r\u001B[K     |█████████████████████████████▊  | 13.6 MB 7.5 MB/s eta 0:00:01\r\u001B[K     |█████████████████████████████▊  | 13.6 MB 7.5 MB/s eta 0:00:01\r\u001B[K     |█████████████████████████████▉  | 13.6 MB 7.5 MB/s eta 0:00:01\r\u001B[K     |█████████████████████████████▉  | 13.6 MB 7.5 MB/s eta 0:00:01\r\u001B[K     |█████████████████████████████▉  | 13.6 MB 7.5 MB/s eta 0:00:01\r\u001B[K     |█████████████████████████████▉  | 13.6 MB 7.5 MB/s eta 0:00:01\r\u001B[K     |█████████████████████████████▉  | 13.7 MB 7.5 MB/s eta 0:00:01\r\u001B[K     |██████████████████████████████  | 13.7 MB 7.5 MB/s eta 0:00:01\r\u001B[K     |██████████████████████████████  | 13.7 MB 7.5 MB/s eta 0:00:01\r\u001B[K     |██████████████████████████████  | 13.7 MB 7.5 MB/s eta 0:00:01\r\u001B[K     |██████████████████████████████  | 13.7 MB 7.5 MB/s eta 0:00:01\r\u001B[K     |██████████████████████████████  | 13.7 MB 7.5 MB/s eta 0:00:01\r\u001B[K     |██████████████████████████████  | 13.7 MB 7.5 MB/s eta 0:00:01\r\u001B[K     |██████████████████████████████  | 13.7 MB 7.5 MB/s eta 0:00:01\r\u001B[K     |██████████████████████████████  | 13.7 MB 7.5 MB/s eta 0:00:01\r\u001B[K     |██████████████████████████████  | 13.8 MB 7.5 MB/s eta 0:00:01\r\u001B[K     |██████████████████████████████  | 13.8 MB 7.5 MB/s eta 0:00:01\r\u001B[K     |██████████████████████████████▏ | 13.8 MB 7.5 MB/s eta 0:00:01\r\u001B[K     |██████████████████████████████▏ | 13.8 MB 7.5 MB/s eta 0:00:01\r\u001B[K     |██████████████████████████████▏ | 13.8 MB 7.5 MB/s eta 0:00:01\r\u001B[K     |██████████████████████████████▏ | 13.8 MB 7.5 MB/s eta 0:00:01\r\u001B[K     |██████████████████████████████▏ | 13.8 MB 7.5 MB/s eta 0:00:01\r\u001B[K     |██████████████████████████████▎ | 13.8 MB 7.5 MB/s eta 0:00:01\r\u001B[K     |██████████████████████████████▎ | 13.8 MB 7.5 MB/s eta 0:00:01\r\u001B[K     |██████████████████████████████▎ | 13.8 MB 7.5 MB/s eta 0:00:01\r\u001B[K     |██████████████████████████████▎ | 13.9 MB 7.5 MB/s eta 0:00:01\r\u001B[K     |██████████████████████████████▎ | 13.9 MB 7.5 MB/s eta 0:00:01\r\u001B[K     |██████████████████████████████▍ | 13.9 MB 7.5 MB/s eta 0:00:01\r\u001B[K     |██████████████████████████████▍ | 13.9 MB 7.5 MB/s eta 0:00:01\r\u001B[K     |██████████████████████████████▍ | 13.9 MB 7.5 MB/s eta 0:00:01\r\u001B[K     |██████████████████████████████▍ | 13.9 MB 7.5 MB/s eta 0:00:01\r\u001B[K     |██████████████████████████████▍ | 13.9 MB 7.5 MB/s eta 0:00:01\r\u001B[K     |██████████████████████████████▌ | 13.9 MB 7.5 MB/s eta 0:00:01\r\u001B[K     |██████████████████████████████▌ | 13.9 MB 7.5 MB/s eta 0:00:01\r\u001B[K     |██████████████████████████████▌ | 13.9 MB 7.5 MB/s eta 0:00:01\r\u001B[K     |██████████████████████████████▌ | 14.0 MB 7.5 MB/s eta 0:00:01\r\u001B[K     |██████████████████████████████▌ | 14.0 MB 7.5 MB/s eta 0:00:01\r\u001B[K     |██████████████████████████████▋ | 14.0 MB 7.5 MB/s eta 0:00:01\r\u001B[K     |██████████████████████████████▋ | 14.0 MB 7.5 MB/s eta 0:00:01\r\u001B[K     |██████████████████████████████▋ | 14.0 MB 7.5 MB/s eta 0:00:01\r\u001B[K     |██████████████████████████████▋ | 14.0 MB 7.5 MB/s eta 0:00:01\r\u001B[K     |██████████████████████████████▋ | 14.0 MB 7.5 MB/s eta 0:00:01\r\u001B[K     |██████████████████████████████▊ | 14.0 MB 7.5 MB/s eta 0:00:01\r\u001B[K     |██████████████████████████████▊ | 14.0 MB 7.5 MB/s eta 0:00:01\r\u001B[K     |██████████████████████████████▊ | 14.0 MB 7.5 MB/s eta 0:00:01\r\u001B[K     |██████████████████████████████▊ | 14.1 MB 7.5 MB/s eta 0:00:01\r\u001B[K     |██████████████████████████████▉ | 14.1 MB 7.5 MB/s eta 0:00:01\r\u001B[K     |██████████████████████████████▉ | 14.1 MB 7.5 MB/s eta 0:00:01\r\u001B[K     |██████████████████████████████▉ | 14.1 MB 7.5 MB/s eta 0:00:01\r\u001B[K     |██████████████████████████████▉ | 14.1 MB 7.5 MB/s eta 0:00:01\r\u001B[K     |██████████████████████████████▉ | 14.1 MB 7.5 MB/s eta 0:00:01\r\u001B[K     |███████████████████████████████ | 14.1 MB 7.5 MB/s eta 0:00:01\r\u001B[K     |███████████████████████████████ | 14.1 MB 7.5 MB/s eta 0:00:01\r\u001B[K     |███████████████████████████████ | 14.1 MB 7.5 MB/s eta 0:00:01\r\u001B[K     |███████████████████████████████ | 14.2 MB 7.5 MB/s eta 0:00:01\r\u001B[K     |███████████████████████████████ | 14.2 MB 7.5 MB/s eta 0:00:01\r\u001B[K     |███████████████████████████████ | 14.2 MB 7.5 MB/s eta 0:00:01\r\u001B[K     |███████████████████████████████ | 14.2 MB 7.5 MB/s eta 0:00:01\r\u001B[K     |███████████████████████████████ | 14.2 MB 7.5 MB/s eta 0:00:01\r\u001B[K     |███████████████████████████████ | 14.2 MB 7.5 MB/s eta 0:00:01\r\u001B[K     |███████████████████████████████ | 14.2 MB 7.5 MB/s eta 0:00:01\r\u001B[K     |███████████████████████████████▏| 14.2 MB 7.5 MB/s eta 0:00:01\r\u001B[K     |███████████████████████████████▏| 14.2 MB 7.5 MB/s eta 0:00:01\r\u001B[K     |███████████████████████████████▏| 14.2 MB 7.5 MB/s eta 0:00:01\r\u001B[K     |███████████████████████████████▏| 14.3 MB 7.5 MB/s eta 0:00:01\r\u001B[K     |███████████████████████████████▏| 14.3 MB 7.5 MB/s eta 0:00:01\r\u001B[K     |███████████████████████████████▎| 14.3 MB 7.5 MB/s eta 0:00:01\r\u001B[K     |███████████████████████████████▎| 14.3 MB 7.5 MB/s eta 0:00:01\r\u001B[K     |███████████████████████████████▎| 14.3 MB 7.5 MB/s eta 0:00:01\r\u001B[K     |███████████████████████████████▎| 14.3 MB 7.5 MB/s eta 0:00:01\r\u001B[K     |███████████████████████████████▎| 14.3 MB 7.5 MB/s eta 0:00:01\r\u001B[K     |███████████████████████████████▍| 14.3 MB 7.5 MB/s eta 0:00:01\r\u001B[K     |███████████████████████████████▍| 14.3 MB 7.5 MB/s eta 0:00:01\r\u001B[K     |███████████████████████████████▍| 14.3 MB 7.5 MB/s eta 0:00:01\r\u001B[K     |███████████████████████████████▍| 14.4 MB 7.5 MB/s eta 0:00:01\r\u001B[K     |███████████████████████████████▍| 14.4 MB 7.5 MB/s eta 0:00:01\r\u001B[K     |███████████████████████████████▌| 14.4 MB 7.5 MB/s eta 0:00:01\r\u001B[K     |███████████████████████████████▌| 14.4 MB 7.5 MB/s eta 0:00:01\r\u001B[K     |███████████████████████████████▌| 14.4 MB 7.5 MB/s eta 0:00:01\r\u001B[K     |███████████████████████████████▌| 14.4 MB 7.5 MB/s eta 0:00:01\r\u001B[K     |███████████████████████████████▌| 14.4 MB 7.5 MB/s eta 0:00:01\r\u001B[K     |███████████████████████████████▋| 14.4 MB 7.5 MB/s eta 0:00:01\r\u001B[K     |███████████████████████████████▋| 14.4 MB 7.5 MB/s eta 0:00:01\r\u001B[K     |███████████████████████████████▋| 14.4 MB 7.5 MB/s eta 0:00:01\r\u001B[K     |███████████████████████████████▋| 14.5 MB 7.5 MB/s eta 0:00:01\r\u001B[K     |███████████████████████████████▋| 14.5 MB 7.5 MB/s eta 0:00:01\r\u001B[K     |███████████████████████████████▊| 14.5 MB 7.5 MB/s eta 0:00:01\r\u001B[K     |███████████████████████████████▊| 14.5 MB 7.5 MB/s eta 0:00:01\r\u001B[K     |███████████████████████████████▊| 14.5 MB 7.5 MB/s eta 0:00:01\r\u001B[K     |███████████████████████████████▊| 14.5 MB 7.5 MB/s eta 0:00:01\r\u001B[K     |███████████████████████████████▊| 14.5 MB 7.5 MB/s eta 0:00:01\r\u001B[K     |███████████████████████████████▉| 14.5 MB 7.5 MB/s eta 0:00:01\r\u001B[K     |███████████████████████████████▉| 14.5 MB 7.5 MB/s eta 0:00:01\r\u001B[K     |███████████████████████████████▉| 14.6 MB 7.5 MB/s eta 0:00:01\r\u001B[K     |███████████████████████████████▉| 14.6 MB 7.5 MB/s eta 0:00:01\r\u001B[K     |███████████████████████████████▉| 14.6 MB 7.5 MB/s eta 0:00:01\r\u001B[K     |████████████████████████████████| 14.6 MB 7.5 MB/s eta 0:00:01\r\u001B[K     |████████████████████████████████| 14.6 MB 7.5 MB/s eta 0:00:01\r\u001B[K     |████████████████████████████████| 14.6 MB 7.5 MB/s eta 0:00:01\r\u001B[K     |████████████████████████████████| 14.6 MB 7.5 MB/s eta 0:00:01\r\u001B[K     |████████████████████████████████| 14.6 MB 7.5 MB/s eta 0:00:01\r\u001B[K     |████████████████████████████████| 14.6 MB 7.5 MB/s \r\n\u001B[?25hCollecting prometheus-flask-exporter\r\n  Downloading prometheus_flask_exporter-0.23.0-py3-none-any.whl (18 kB)\r\nRequirement already satisfied: protobuf>=3.7.0 in /databricks/python3/lib/python3.9/site-packages (from mlflow==1.20.2) (3.19.4)\r\nRequirement already satisfied: cloudpickle in /local_disk0/.ephemeral_nfs/envs/pythonEnv-cb8ef12c-8266-4b2f-a22d-465864787d51/lib/python3.9/site-packages (from mlflow==1.20.2) (3.0.0)\r\nRequirement already satisfied: packaging in /databricks/python3/lib/python3.9/site-packages (from mlflow==1.20.2) (21.3)\r\nCollecting alembic<=1.4.1\r\n  Downloading alembic-1.4.1.tar.gz (1.1 MB)\r\n\u001B[?25l\r\u001B[K     |▎                               | 10 kB 25.7 MB/s eta 0:00:01\r\u001B[K     |▋                               | 20 kB 31.2 MB/s eta 0:00:01\r\u001B[K     |█                               | 30 kB 33.5 MB/s eta 0:00:01\r\u001B[K     |█▏                              | 40 kB 36.6 MB/s eta 0:00:01\r\u001B[K     |█▌                              | 51 kB 37.9 MB/s eta 0:00:01\r\u001B[K     |█▉                              | 61 kB 40.4 MB/s eta 0:00:01\r\u001B[K     |██▏                             | 71 kB 41.5 MB/s eta 0:00:01\r\u001B[K     |██▍                             | 81 kB 42.6 MB/s eta 0:00:01\r\u001B[K     |██▊                             | 92 kB 44.4 MB/s eta 0:00:01\r\u001B[K     |███                             | 102 kB 45.7 MB/s eta 0:00:01\r\u001B[K     |███▎                            | 112 kB 45.7 MB/s eta 0:00:01\r\u001B[K     |███▋                            | 122 kB 45.7 MB/s eta 0:00:01\r\u001B[K     |████                            | 133 kB 45.7 MB/s eta 0:00:01\r\u001B[K     |████▎                           | 143 kB 45.7 MB/s eta 0:00:01\r\u001B[K     |████▌                           | 153 kB 45.7 MB/s eta 0:00:01\r\u001B[K     |████▉                           | 163 kB 45.7 MB/s eta 0:00:01\r\u001B[K     |█████▏                          | 174 kB 45.7 MB/s eta 0:00:01\r\u001B[K     |█████▍                          | 184 kB 45.7 MB/s eta 0:00:01\r\u001B[K     |█████▊                          | 194 kB 45.7 MB/s eta 0:00:01\r\u001B[K     |██████                          | 204 kB 45.7 MB/s eta 0:00:01\r\u001B[K     |██████▍                         | 215 kB 45.7 MB/s eta 0:00:01\r\u001B[K     |██████▋                         | 225 kB 45.7 MB/s eta 0:00:01\r\u001B[K     |███████                         | 235 kB 45.7 MB/s eta 0:00:01\r\u001B[K     |███████▎                        | 245 kB 45.7 MB/s eta 0:00:01\r\u001B[K     |███████▌                        | 256 kB 45.7 MB/s eta 0:00:01\r\u001B[K     |███████▉                        | 266 kB 45.7 MB/s eta 0:00:01\r\u001B[K     |████████▏                       | 276 kB 45.7 MB/s eta 0:00:01\r\u001B[K     |████████▌                       | 286 kB 45.7 MB/s eta 0:00:01\r\u001B[K     |████████▊                       | 296 kB 45.7 MB/s eta 0:00:01\r\u001B[K     |█████████                       | 307 kB 45.7 MB/s eta 0:00:01\r\u001B[K     |█████████▍                      | 317 kB 45.7 MB/s eta 0:00:01\r\u001B[K     |█████████▋                      | 327 kB 45.7 MB/s eta 0:00:01\r\u001B[K     |██████████                      | 337 kB 45.7 MB/s eta 0:00:01\r\u001B[K     |██████████▎                     | 348 kB 45.7 MB/s eta 0:00:01\r\u001B[K     |██████████▋                     | 358 kB 45.7 MB/s eta 0:00:01\r\u001B[K     |██████████▉                     | 368 kB 45.7 MB/s eta 0:00:01\r\u001B[K     |███████████▏                    | 378 kB 45.7 MB/s eta 0:00:01\r\u001B[K     |███████████▌                    | 389 kB 45.7 MB/s eta 0:00:01\r\u001B[K     |███████████▉                    | 399 kB 45.7 MB/s eta 0:00:01\r\u001B[K     |████████████                    | 409 kB 45.7 MB/s eta 0:00:01\r\u001B[K     |████████████▍                   | 419 kB 45.7 MB/s eta 0:00:01\r\u001B[K     |████████████▊                   | 430 kB 45.7 MB/s eta 0:00:01\r\u001B[K     |█████████████                   | 440 kB 45.7 MB/s eta 0:00:01\r\u001B[K     |█████████████▎                  | 450 kB 45.7 MB/s eta 0:00:01\r\u001B[K     |█████████████▋                  | 460 kB 45.7 MB/s eta 0:00:01\r\u001B[K     |██████████████                  | 471 kB 45.7 MB/s eta 0:00:01\r\u001B[K     |██████████████▏                 | 481 kB 45.7 MB/s eta 0:00:01\r\u001B[K     |██████████████▌                 | 491 kB 45.7 MB/s eta 0:00:01\r\u001B[K     |██████████████▉                 | 501 kB 45.7 MB/s eta 0:00:01\r\u001B[K     |███████████████                 | 512 kB 45.7 MB/s eta 0:00:01\r\u001B[K     |███████████████▍                | 522 kB 45.7 MB/s eta 0:00:01\r\u001B[K     |███████████████▊                | 532 kB 45.7 MB/s eta 0:00:01\r\u001B[K     |████████████████                | 542 kB 45.7 MB/s eta 0:00:01\r\u001B[K     |████████████████▎               | 552 kB 45.7 MB/s eta 0:00:01\r\u001B[K     |████████████████▋               | 563 kB 45.7 MB/s eta 0:00:01\r\u001B[K     |█████████████████               | 573 kB 45.7 MB/s eta 0:00:01\r\u001B[K     |█████████████████▏              | 583 kB 45.7 MB/s eta 0:00:01\r\u001B[K     |█████████████████▌              | 593 kB 45.7 MB/s eta 0:00:01\r\u001B[K     |█████████████████▉              | 604 kB 45.7 MB/s eta 0:00:01\r\u001B[K     |██████████████████▏             | 614 kB 45.7 MB/s eta 0:00:01\r\u001B[K     |██████████████████▍             | 624 kB 45.7 MB/s eta 0:00:01\r\u001B[K     |██████████████████▊             | 634 kB 45.7 MB/s eta 0:00:01\r\u001B[K     |███████████████████             | 645 kB 45.7 MB/s eta 0:00:01\r\u001B[K     |███████████████████▎            | 655 kB 45.7 MB/s eta 0:00:01\r\u001B[K     |███████████████████▋            | 665 kB 45.7 MB/s eta 0:00:01\r\u001B[K     |████████████████████            | 675 kB 45.7 MB/s eta 0:00:01\r\u001B[K     |████████████████████▎           | 686 kB 45.7 MB/s eta 0:00:01\r\u001B[K     |████████████████████▌           | 696 kB 45.7 MB/s eta 0:00:01\r\u001B[K     |████████████████████▉           | 706 kB 45.7 MB/s eta 0:00:01\r\u001B[K     |█████████████████████▏          | 716 kB 45.7 MB/s eta 0:00:01\r\u001B[K     |█████████████████████▌          | 727 kB 45.7 MB/s eta 0:00:01\r\u001B[K     |█████████████████████▊          | 737 kB 45.7 MB/s eta 0:00:01\r\u001B[K     |██████████████████████          | 747 kB 45.7 MB/s eta 0:00:01\r\u001B[K     |██████████████████████▍         | 757 kB 45.7 MB/s eta 0:00:01\r\u001B[K     |██████████████████████▋         | 768 kB 45.7 MB/s eta 0:00:01\r\u001B[K     |███████████████████████         | 778 kB 45.7 MB/s eta 0:00:01\r\u001B[K     |███████████████████████▎        | 788 kB 45.7 MB/s eta 0:00:01\r\u001B[K     |███████████████████████▋        | 798 kB 45.7 MB/s eta 0:00:01\r\u001B[K     |███████████████████████▉        | 808 kB 45.7 MB/s eta 0:00:01\r\u001B[K     |████████████████████████▏       | 819 kB 45.7 MB/s eta 0:00:01\r\u001B[K     |████████████████████████▌       | 829 kB 45.7 MB/s eta 0:00:01\r\u001B[K     |████████████████████████▊       | 839 kB 45.7 MB/s eta 0:00:01\r\u001B[K     |█████████████████████████       | 849 kB 45.7 MB/s eta 0:00:01\r\u001B[K     |█████████████████████████▍      | 860 kB 45.7 MB/s eta 0:00:01\r\u001B[K     |█████████████████████████▊      | 870 kB 45.7 MB/s eta 0:00:01\r\u001B[K     |██████████████████████████      | 880 kB 45.7 MB/s eta 0:00:01\r\u001B[K     |██████████████████████████▎     | 890 kB 45.7 MB/s eta 0:00:01\r\u001B[K     |██████████████████████████▋     | 901 kB 45.7 MB/s eta 0:00:01\r\u001B[K     |██████████████████████████▉     | 911 kB 45.7 MB/s eta 0:00:01\r\u001B[K     |███████████████████████████▏    | 921 kB 45.7 MB/s eta 0:00:01\r\u001B[K     |███████████████████████████▌    | 931 kB 45.7 MB/s eta 0:00:01\r\u001B[K     |███████████████████████████▉    | 942 kB 45.7 MB/s eta 0:00:01\r\u001B[K     |████████████████████████████    | 952 kB 45.7 MB/s eta 0:00:01\r\u001B[K     |████████████████████████████▍   | 962 kB 45.7 MB/s eta 0:00:01\r\u001B[K     |████████████████████████████▊   | 972 kB 45.7 MB/s eta 0:00:01\r\u001B[K     |█████████████████████████████   | 983 kB 45.7 MB/s eta 0:00:01\r\u001B[K     |█████████████████████████████▎  | 993 kB 45.7 MB/s eta 0:00:01\r\u001B[K     |█████████████████████████████▋  | 1.0 MB 45.7 MB/s eta 0:00:01\r\u001B[K     |██████████████████████████████  | 1.0 MB 45.7 MB/s eta 0:00:01\r\u001B[K     |██████████████████████████████▏ | 1.0 MB 45.7 MB/s eta 0:00:01\r\u001B[K     |██████████████████████████████▌ | 1.0 MB 45.7 MB/s eta 0:00:01\r\u001B[K     |██████████████████████████████▉ | 1.0 MB 45.7 MB/s eta 0:00:01\r\u001B[K     |███████████████████████████████▏| 1.1 MB 45.7 MB/s eta 0:00:01\r\u001B[K     |███████████████████████████████▍| 1.1 MB 45.7 MB/s eta 0:00:01\r\u001B[K     |███████████████████████████████▊| 1.1 MB 45.7 MB/s eta 0:00:01\r\u001B[K     |████████████████████████████████| 1.1 MB 45.7 MB/s \r\n\u001B[?25hRequirement already satisfied: sqlparse>=0.3.1 in /local_disk0/.ephemeral_nfs/envs/pythonEnv-cb8ef12c-8266-4b2f-a22d-465864787d51/lib/python3.9/site-packages (from mlflow==1.20.2) (0.4.4)\r\nRequirement already satisfied: entrypoints in /databricks/python3/lib/python3.9/site-packages (from mlflow==1.20.2) (0.4)\r\nRequirement already satisfied: querystring-parser in /local_disk0/.ephemeral_nfs/envs/pythonEnv-cb8ef12c-8266-4b2f-a22d-465864787d51/lib/python3.9/site-packages (from mlflow==1.20.2) (1.2.4)\r\nRequirement already satisfied: click>=7.0 in /local_disk0/.ephemeral_nfs/envs/pythonEnv-cb8ef12c-8266-4b2f-a22d-465864787d51/lib/python3.9/site-packages (from mlflow==1.20.2) (8.1.7)\r\nRequirement already satisfied: pytz in /databricks/python3/lib/python3.9/site-packages (from mlflow==1.20.2) (2021.3)\r\nRequirement already satisfied: Flask in /local_disk0/.ephemeral_nfs/envs/pythonEnv-cb8ef12c-8266-4b2f-a22d-465864787d51/lib/python3.9/site-packages (from mlflow==1.20.2) (3.0.0)\r\nRequirement already satisfied: pandas in /databricks/python3/lib/python3.9/site-packages (from mlflow==1.20.2) (1.4.2)\r\nRequirement already satisfied: sqlalchemy in /local_disk0/.ephemeral_nfs/envs/pythonEnv-cb8ef12c-8266-4b2f-a22d-465864787d51/lib/python3.9/site-packages (from mlflow==1.20.2) (2.0.25)\r\nRequirement already satisfied: gunicorn in /local_disk0/.ephemeral_nfs/envs/pythonEnv-cb8ef12c-8266-4b2f-a22d-465864787d51/lib/python3.9/site-packages (from mlflow==1.20.2) (21.2.0)\r\nRequirement already satisfied: importlib-metadata!=4.7.0,>=3.7.0 in /local_disk0/.ephemeral_nfs/envs/pythonEnv-cb8ef12c-8266-4b2f-a22d-465864787d51/lib/python3.9/site-packages (from mlflow==1.20.2) (7.0.1)\r\nRequirement already satisfied: numpy in /databricks/python3/lib/python3.9/site-packages (from mlflow==1.20.2) (1.21.5)\r\nRequirement already satisfied: pyyaml>=5.1 in /local_disk0/.ephemeral_nfs/envs/pythonEnv-cb8ef12c-8266-4b2f-a22d-465864787d51/lib/python3.9/site-packages (from mlflow==1.20.2) (6.0.1)\r\nRequirement already satisfied: gitpython>=2.1.0 in /local_disk0/.ephemeral_nfs/envs/pythonEnv-cb8ef12c-8266-4b2f-a22d-465864787d51/lib/python3.9/site-packages (from mlflow==1.20.2) (3.1.40)\r\nRequirement already satisfied: requests>=2.17.3 in /databricks/python3/lib/python3.9/site-packages (from mlflow==1.20.2) (2.27.1)\r\nRequirement already satisfied: databricks-cli>=0.8.7 in /local_disk0/.ephemeral_nfs/envs/pythonEnv-cb8ef12c-8266-4b2f-a22d-465864787d51/lib/python3.9/site-packages (from mlflow==1.20.2) (0.18.0)\r\nRequirement already satisfied: docker>=4.0.0 in /local_disk0/.ephemeral_nfs/envs/pythonEnv-cb8ef12c-8266-4b2f-a22d-465864787d51/lib/python3.9/site-packages (from mlflow==1.20.2) (6.1.3)\r\nRequirement already satisfied: Mako in /local_disk0/.ephemeral_nfs/envs/pythonEnv-cb8ef12c-8266-4b2f-a22d-465864787d51/lib/python3.9/site-packages (from alembic<=1.4.1->mlflow==1.20.2) (1.3.0)\r\nCollecting python-editor>=0.3\r\n  Downloading python_editor-1.0.4-py3-none-any.whl (4.9 kB)\r\nRequirement already satisfied: python-dateutil in /databricks/python3/lib/python3.9/site-packages (from alembic<=1.4.1->mlflow==1.20.2) (2.8.2)\r\nRequirement already satisfied: urllib3<3,>=1.26.7 in /databricks/python3/lib/python3.9/site-packages (from databricks-cli>=0.8.7->mlflow==1.20.2) (1.26.9)\r\nRequirement already satisfied: tabulate>=0.7.7 in /local_disk0/.ephemeral_nfs/envs/pythonEnv-cb8ef12c-8266-4b2f-a22d-465864787d51/lib/python3.9/site-packages (from databricks-cli>=0.8.7->mlflow==1.20.2) (0.9.0)\r\nRequirement already satisfied: six>=1.10.0 in /databricks/python3/lib/python3.9/site-packages (from databricks-cli>=0.8.7->mlflow==1.20.2) (1.16.0)\r\nRequirement already satisfied: oauthlib>=3.1.0 in /local_disk0/.ephemeral_nfs/envs/pythonEnv-cb8ef12c-8266-4b2f-a22d-465864787d51/lib/python3.9/site-packages (from databricks-cli>=0.8.7->mlflow==1.20.2) (3.2.2)\r\nRequirement already satisfied: pyjwt>=1.7.0 in /local_disk0/.ephemeral_nfs/envs/pythonEnv-cb8ef12c-8266-4b2f-a22d-465864787d51/lib/python3.9/site-packages (from databricks-cli>=0.8.7->mlflow==1.20.2) (2.8.0)\r\nRequirement already satisfied: websocket-client>=0.32.0 in /local_disk0/.ephemeral_nfs/envs/pythonEnv-cb8ef12c-8266-4b2f-a22d-465864787d51/lib/python3.9/site-packages (from docker>=4.0.0->mlflow==1.20.2) (1.7.0)\r\nRequirement already satisfied: gitdb<5,>=4.0.1 in /local_disk0/.ephemeral_nfs/envs/pythonEnv-cb8ef12c-8266-4b2f-a22d-465864787d51/lib/python3.9/site-packages (from gitpython>=2.1.0->mlflow==1.20.2) (4.0.11)\r\nRequirement already satisfied: smmap<6,>=3.0.1 in /local_disk0/.ephemeral_nfs/envs/pythonEnv-cb8ef12c-8266-4b2f-a22d-465864787d51/lib/python3.9/site-packages (from gitdb<5,>=4.0.1->gitpython>=2.1.0->mlflow==1.20.2) (5.0.1)\r\nRequirement already satisfied: zipp>=0.5 in /local_disk0/.ephemeral_nfs/envs/pythonEnv-cb8ef12c-8266-4b2f-a22d-465864787d51/lib/python3.9/site-packages (from importlib-metadata!=4.7.0,>=3.7.0->mlflow==1.20.2) (3.17.0)\r\nRequirement already satisfied: pyparsing!=3.0.5,>=2.0.2 in /databricks/python3/lib/python3.9/site-packages (from packaging->mlflow==1.20.2) (3.0.4)\r\nRequirement already satisfied: idna<4,>=2.5 in /databricks/python3/lib/python3.9/site-packages (from requests>=2.17.3->mlflow==1.20.2) (3.3)\r\nRequirement already satisfied: charset-normalizer~=2.0.0 in /databricks/python3/lib/python3.9/site-packages (from requests>=2.17.3->mlflow==1.20.2) (2.0.4)\r\nRequirement already satisfied: certifi>=2017.4.17 in /databricks/python3/lib/python3.9/site-packages (from requests>=2.17.3->mlflow==1.20.2) (2021.10.8)\r\nRequirement already satisfied: greenlet!=0.4.17 in /local_disk0/.ephemeral_nfs/envs/pythonEnv-cb8ef12c-8266-4b2f-a22d-465864787d51/lib/python3.9/site-packages (from sqlalchemy->mlflow==1.20.2) (3.0.3)\r\nRequirement already satisfied: typing-extensions>=4.6.0 in /local_disk0/.ephemeral_nfs/envs/pythonEnv-cb8ef12c-8266-4b2f-a22d-465864787d51/lib/python3.9/site-packages (from sqlalchemy->mlflow==1.20.2) (4.9.0)\r\nRequirement already satisfied: Werkzeug>=3.0.0 in /local_disk0/.ephemeral_nfs/envs/pythonEnv-cb8ef12c-8266-4b2f-a22d-465864787d51/lib/python3.9/site-packages (from Flask->mlflow==1.20.2) (3.0.1)\r\nRequirement already satisfied: blinker>=1.6.2 in /local_disk0/.ephemeral_nfs/envs/pythonEnv-cb8ef12c-8266-4b2f-a22d-465864787d51/lib/python3.9/site-packages (from Flask->mlflow==1.20.2) (1.7.0)\r\nRequirement already satisfied: Jinja2>=3.1.2 in /local_disk0/.ephemeral_nfs/envs/pythonEnv-cb8ef12c-8266-4b2f-a22d-465864787d51/lib/python3.9/site-packages (from Flask->mlflow==1.20.2) (3.1.2)\r\nRequirement already satisfied: itsdangerous>=2.1.2 in /local_disk0/.ephemeral_nfs/envs/pythonEnv-cb8ef12c-8266-4b2f-a22d-465864787d51/lib/python3.9/site-packages (from Flask->mlflow==1.20.2) (2.1.2)\r\nRequirement already satisfied: MarkupSafe>=2.0 in /local_disk0/.ephemeral_nfs/envs/pythonEnv-cb8ef12c-8266-4b2f-a22d-465864787d51/lib/python3.9/site-packages (from Jinja2>=3.1.2->Flask->mlflow==1.20.2) (2.1.3)\r\nRequirement already satisfied: prometheus-client in /databricks/python3/lib/python3.9/site-packages (from prometheus-flask-exporter->mlflow==1.20.2) (0.13.1)\r\nBuilding wheels for collected packages: alembic\r\n  Building wheel for alembic (setup.py) ... \u001B[?25l-\b \b\\\b \b|\b \b/\b \b-\b \b\\\b \b|\b \b/\b \b-\b \b\\\b \b|\b \b/\b \bdone\r\n\u001B[?25h  Created wheel for alembic: filename=alembic-1.4.1-py2.py3-none-any.whl size=158170 sha256=c9eb13bc8347eff5c69493febac8a4c8c7e671d3d37d582f2a534d58777c009d\r\n  Stored in directory: /root/.cache/pip/wheels/05/12/70/e1473f1aab32af60e9b87f14bbbb745b7c2e86d7f3e5b5742b\r\nSuccessfully built alembic\r\nInstalling collected packages: python-editor, prometheus-flask-exporter, alembic, mlflow\r\n  Attempting uninstall: alembic\r\n    Found existing installation: alembic 1.13.1\r\n    Uninstalling alembic-1.13.1:\r\n      Successfully uninstalled alembic-1.13.1\r\n  Attempting uninstall: mlflow\r\n    Found existing installation: mlflow 2.9.2\r\n    Uninstalling mlflow-2.9.2:\r\n      Successfully uninstalled mlflow-2.9.2\r\nSuccessfully installed alembic-1.4.1 mlflow-1.20.2 prometheus-flask-exporter-0.23.0 python-editor-1.0.4\r\n\u001B[33mWARNING: You are using pip version 21.2.4; however, version 23.3.2 is available.\r\nYou should consider upgrading via the '/local_disk0/.ephemeral_nfs/envs/pythonEnv-cb8ef12c-8266-4b2f-a22d-465864787d51/bin/python -m pip install --upgrade pip' command.\u001B[0m\r\n"
     ]
    }
   ],
   "source": [
    "!pip install mlflow==1.20.2"
   ]
  },
  {
   "cell_type": "code",
   "execution_count": 0,
   "metadata": {
    "application/vnd.databricks.v1+cell": {
     "cellMetadata": {
      "byteLimit": 2048000,
      "rowLimit": 10000
     },
     "inputWidgets": {},
     "nuid": "654aec93-f936-4345-a75a-c072281a3029",
     "showTitle": false,
     "title": ""
    }
   },
   "outputs": [],
   "source": [
    "# Import necessary modules\n",
    "from pyspark.sql import SparkSession\n",
    "\n",
    "# File location and type\n",
    "file_location = \"/FileStore/tables/creditcard.csv\"\n",
    "file_type = \"csv\"\n",
    "\n",
    "# CSV options\n",
    "infer_schema = \"true\"\n",
    "first_row_is_header = \"true\"\n",
    "delimiter = \",\"\n",
    "\n",
    "# Create a Spark session\n",
    "spark = SparkSession.builder.appName(\"example\").getOrCreate()\n",
    "\n",
    "# The applied options are for CSV files. For other file types, these will be ignored.\n",
    "dataframe = spark.read.format(file_type) \\\n",
    "    .option(\"inferSchema\", infer_schema) \\\n",
    "    .option(\"header\", first_row_is_header) \\\n",
    "    .option(\"sep\", delimiter) \\\n",
    "    .load(file_location)\n",
    "\n",
    "# Convert to Pandas DataFrame\n",
    "df = dataframe.toPandas()\n"
   ]
  },
  {
   "cell_type": "code",
   "execution_count": 0,
   "metadata": {
    "application/vnd.databricks.v1+cell": {
     "cellMetadata": {
      "byteLimit": 2048000,
      "rowLimit": 10000
     },
     "inputWidgets": {},
     "nuid": "bc637a22-410d-4100-8348-3b5369817534",
     "showTitle": false,
     "title": ""
    }
   },
   "outputs": [
    {
     "output_type": "display_data",
     "data": {
      "text/html": [
       "<div>\n",
       "<style scoped>\n",
       "    .dataframe tbody tr th:only-of-type {\n",
       "        vertical-align: middle;\n",
       "    }\n",
       "\n",
       "    .dataframe tbody tr th {\n",
       "        vertical-align: top;\n",
       "    }\n",
       "\n",
       "    .dataframe thead th {\n",
       "        text-align: right;\n",
       "    }\n",
       "</style>\n",
       "<table border=\"1\" class=\"dataframe\">\n",
       "  <thead>\n",
       "    <tr style=\"text-align: right;\">\n",
       "      <th></th>\n",
       "      <th>V1</th>\n",
       "      <th>V2</th>\n",
       "      <th>V3</th>\n",
       "      <th>V4</th>\n",
       "      <th>V5</th>\n",
       "      <th>V6</th>\n",
       "      <th>V7</th>\n",
       "      <th>V8</th>\n",
       "      <th>V9</th>\n",
       "      <th>V10</th>\n",
       "      <th>...</th>\n",
       "      <th>V21</th>\n",
       "      <th>V22</th>\n",
       "      <th>V23</th>\n",
       "      <th>V24</th>\n",
       "      <th>V25</th>\n",
       "      <th>V26</th>\n",
       "      <th>V27</th>\n",
       "      <th>V28</th>\n",
       "      <th>Amount</th>\n",
       "      <th>Class</th>\n",
       "    </tr>\n",
       "  </thead>\n",
       "  <tbody>\n",
       "    <tr>\n",
       "      <th>0</th>\n",
       "      <td>-1.359807</td>\n",
       "      <td>-0.072781</td>\n",
       "      <td>2.536347</td>\n",
       "      <td>1.378155</td>\n",
       "      <td>-0.338321</td>\n",
       "      <td>0.462388</td>\n",
       "      <td>0.239599</td>\n",
       "      <td>0.098698</td>\n",
       "      <td>0.363787</td>\n",
       "      <td>0.090794</td>\n",
       "      <td>...</td>\n",
       "      <td>-0.018307</td>\n",
       "      <td>0.277838</td>\n",
       "      <td>-0.110474</td>\n",
       "      <td>0.066928</td>\n",
       "      <td>0.128539</td>\n",
       "      <td>-0.189115</td>\n",
       "      <td>0.133558</td>\n",
       "      <td>-0.021053</td>\n",
       "      <td>149.62</td>\n",
       "      <td>0</td>\n",
       "    </tr>\n",
       "    <tr>\n",
       "      <th>1</th>\n",
       "      <td>1.191857</td>\n",
       "      <td>0.266151</td>\n",
       "      <td>0.166480</td>\n",
       "      <td>0.448154</td>\n",
       "      <td>0.060018</td>\n",
       "      <td>-0.082361</td>\n",
       "      <td>-0.078803</td>\n",
       "      <td>0.085102</td>\n",
       "      <td>-0.255425</td>\n",
       "      <td>-0.166974</td>\n",
       "      <td>...</td>\n",
       "      <td>-0.225775</td>\n",
       "      <td>-0.638672</td>\n",
       "      <td>0.101288</td>\n",
       "      <td>-0.339846</td>\n",
       "      <td>0.167170</td>\n",
       "      <td>0.125895</td>\n",
       "      <td>-0.008983</td>\n",
       "      <td>0.014724</td>\n",
       "      <td>2.69</td>\n",
       "      <td>0</td>\n",
       "    </tr>\n",
       "    <tr>\n",
       "      <th>2</th>\n",
       "      <td>-1.358354</td>\n",
       "      <td>-1.340163</td>\n",
       "      <td>1.773209</td>\n",
       "      <td>0.379780</td>\n",
       "      <td>-0.503198</td>\n",
       "      <td>1.800499</td>\n",
       "      <td>0.791461</td>\n",
       "      <td>0.247676</td>\n",
       "      <td>-1.514654</td>\n",
       "      <td>0.207643</td>\n",
       "      <td>...</td>\n",
       "      <td>0.247998</td>\n",
       "      <td>0.771679</td>\n",
       "      <td>0.909412</td>\n",
       "      <td>-0.689281</td>\n",
       "      <td>-0.327642</td>\n",
       "      <td>-0.139097</td>\n",
       "      <td>-0.055353</td>\n",
       "      <td>-0.059752</td>\n",
       "      <td>378.66</td>\n",
       "      <td>0</td>\n",
       "    </tr>\n",
       "    <tr>\n",
       "      <th>3</th>\n",
       "      <td>-0.966272</td>\n",
       "      <td>-0.185226</td>\n",
       "      <td>1.792993</td>\n",
       "      <td>-0.863291</td>\n",
       "      <td>-0.010309</td>\n",
       "      <td>1.247203</td>\n",
       "      <td>0.237609</td>\n",
       "      <td>0.377436</td>\n",
       "      <td>-1.387024</td>\n",
       "      <td>-0.054952</td>\n",
       "      <td>...</td>\n",
       "      <td>-0.108300</td>\n",
       "      <td>0.005274</td>\n",
       "      <td>-0.190321</td>\n",
       "      <td>-1.175575</td>\n",
       "      <td>0.647376</td>\n",
       "      <td>-0.221929</td>\n",
       "      <td>0.062723</td>\n",
       "      <td>0.061458</td>\n",
       "      <td>123.50</td>\n",
       "      <td>0</td>\n",
       "    </tr>\n",
       "    <tr>\n",
       "      <th>4</th>\n",
       "      <td>-1.158233</td>\n",
       "      <td>0.877737</td>\n",
       "      <td>1.548718</td>\n",
       "      <td>0.403034</td>\n",
       "      <td>-0.407193</td>\n",
       "      <td>0.095921</td>\n",
       "      <td>0.592941</td>\n",
       "      <td>-0.270533</td>\n",
       "      <td>0.817739</td>\n",
       "      <td>0.753074</td>\n",
       "      <td>...</td>\n",
       "      <td>-0.009431</td>\n",
       "      <td>0.798278</td>\n",
       "      <td>-0.137458</td>\n",
       "      <td>0.141267</td>\n",
       "      <td>-0.206010</td>\n",
       "      <td>0.502292</td>\n",
       "      <td>0.219422</td>\n",
       "      <td>0.215153</td>\n",
       "      <td>69.99</td>\n",
       "      <td>0</td>\n",
       "    </tr>\n",
       "  </tbody>\n",
       "</table>\n",
       "<p>5 rows × 30 columns</p>\n",
       "</div>"
      ]
     },
     "metadata": {
      "application/vnd.databricks.v1+output": {
       "addedWidgets": {},
       "arguments": {},
       "data": "<div>\n<style scoped>\n    .dataframe tbody tr th:only-of-type {\n        vertical-align: middle;\n    }\n\n    .dataframe tbody tr th {\n        vertical-align: top;\n    }\n\n    .dataframe thead th {\n        text-align: right;\n    }\n</style>\n<table border=\"1\" class=\"dataframe\">\n  <thead>\n    <tr style=\"text-align: right;\">\n      <th></th>\n      <th>V1</th>\n      <th>V2</th>\n      <th>V3</th>\n      <th>V4</th>\n      <th>V5</th>\n      <th>V6</th>\n      <th>V7</th>\n      <th>V8</th>\n      <th>V9</th>\n      <th>V10</th>\n      <th>...</th>\n      <th>V21</th>\n      <th>V22</th>\n      <th>V23</th>\n      <th>V24</th>\n      <th>V25</th>\n      <th>V26</th>\n      <th>V27</th>\n      <th>V28</th>\n      <th>Amount</th>\n      <th>Class</th>\n    </tr>\n  </thead>\n  <tbody>\n    <tr>\n      <th>0</th>\n      <td>-1.359807</td>\n      <td>-0.072781</td>\n      <td>2.536347</td>\n      <td>1.378155</td>\n      <td>-0.338321</td>\n      <td>0.462388</td>\n      <td>0.239599</td>\n      <td>0.098698</td>\n      <td>0.363787</td>\n      <td>0.090794</td>\n      <td>...</td>\n      <td>-0.018307</td>\n      <td>0.277838</td>\n      <td>-0.110474</td>\n      <td>0.066928</td>\n      <td>0.128539</td>\n      <td>-0.189115</td>\n      <td>0.133558</td>\n      <td>-0.021053</td>\n      <td>149.62</td>\n      <td>0</td>\n    </tr>\n    <tr>\n      <th>1</th>\n      <td>1.191857</td>\n      <td>0.266151</td>\n      <td>0.166480</td>\n      <td>0.448154</td>\n      <td>0.060018</td>\n      <td>-0.082361</td>\n      <td>-0.078803</td>\n      <td>0.085102</td>\n      <td>-0.255425</td>\n      <td>-0.166974</td>\n      <td>...</td>\n      <td>-0.225775</td>\n      <td>-0.638672</td>\n      <td>0.101288</td>\n      <td>-0.339846</td>\n      <td>0.167170</td>\n      <td>0.125895</td>\n      <td>-0.008983</td>\n      <td>0.014724</td>\n      <td>2.69</td>\n      <td>0</td>\n    </tr>\n    <tr>\n      <th>2</th>\n      <td>-1.358354</td>\n      <td>-1.340163</td>\n      <td>1.773209</td>\n      <td>0.379780</td>\n      <td>-0.503198</td>\n      <td>1.800499</td>\n      <td>0.791461</td>\n      <td>0.247676</td>\n      <td>-1.514654</td>\n      <td>0.207643</td>\n      <td>...</td>\n      <td>0.247998</td>\n      <td>0.771679</td>\n      <td>0.909412</td>\n      <td>-0.689281</td>\n      <td>-0.327642</td>\n      <td>-0.139097</td>\n      <td>-0.055353</td>\n      <td>-0.059752</td>\n      <td>378.66</td>\n      <td>0</td>\n    </tr>\n    <tr>\n      <th>3</th>\n      <td>-0.966272</td>\n      <td>-0.185226</td>\n      <td>1.792993</td>\n      <td>-0.863291</td>\n      <td>-0.010309</td>\n      <td>1.247203</td>\n      <td>0.237609</td>\n      <td>0.377436</td>\n      <td>-1.387024</td>\n      <td>-0.054952</td>\n      <td>...</td>\n      <td>-0.108300</td>\n      <td>0.005274</td>\n      <td>-0.190321</td>\n      <td>-1.175575</td>\n      <td>0.647376</td>\n      <td>-0.221929</td>\n      <td>0.062723</td>\n      <td>0.061458</td>\n      <td>123.50</td>\n      <td>0</td>\n    </tr>\n    <tr>\n      <th>4</th>\n      <td>-1.158233</td>\n      <td>0.877737</td>\n      <td>1.548718</td>\n      <td>0.403034</td>\n      <td>-0.407193</td>\n      <td>0.095921</td>\n      <td>0.592941</td>\n      <td>-0.270533</td>\n      <td>0.817739</td>\n      <td>0.753074</td>\n      <td>...</td>\n      <td>-0.009431</td>\n      <td>0.798278</td>\n      <td>-0.137458</td>\n      <td>0.141267</td>\n      <td>-0.206010</td>\n      <td>0.502292</td>\n      <td>0.219422</td>\n      <td>0.215153</td>\n      <td>69.99</td>\n      <td>0</td>\n    </tr>\n  </tbody>\n</table>\n<p>5 rows × 30 columns</p>\n</div>",
       "datasetInfos": [],
       "metadata": {},
       "removedWidgets": [],
       "textData": null,
       "type": "htmlSandbox"
      }
     },
     "output_type": "display_data"
    }
   ],
   "source": [
    "df = df.drop(\"Time\", axis=1) # cette colonne n'apporte rien à notre analyse \n",
    "df.head()"
   ]
  },
  {
   "cell_type": "code",
   "execution_count": 0,
   "metadata": {
    "application/vnd.databricks.v1+cell": {
     "cellMetadata": {
      "byteLimit": 2048000,
      "rowLimit": 10000
     },
     "inputWidgets": {},
     "nuid": "7cb1a8ae-f3fa-4ea8-9599-3c698b171f85",
     "showTitle": false,
     "title": ""
    }
   },
   "outputs": [
    {
     "output_type": "stream",
     "name": "stdout",
     "output_type": "stream",
     "text": [
      "Out[6]: <AxesSubplot:xlabel='Class', ylabel='count'>"
     ]
    },
    {
     "output_type": "display_data",
     "data": {
      "image/png": "[encoded data removed]"
     },
     "metadata": {
      "application/vnd.databricks.v1+output": {
       "addedWidgets": {},
       "arguments": {},
       "data": "data:image/png;base64,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\n",
       "datasetInfos": [],
       "metadata": {},
       "removedWidgets": [],
       "type": "image"
      }
     },
     "output_type": "display_data"
    }
   ],
   "source": [
    "sns.countplot(x='Class',data=df)"
   ]
  },
  {
   "cell_type": "code",
   "execution_count": 0,
   "metadata": {
    "application/vnd.databricks.v1+cell": {
     "cellMetadata": {
      "byteLimit": 2048000,
      "rowLimit": 10000
     },
     "inputWidgets": {},
     "nuid": "c8826df7-e677-42d0-9265-e972c3070577",
     "showTitle": false,
     "title": ""
    }
   },
   "outputs": [],
   "source": [
    "normal = df[df.Class == 0].sample(frac=0.5,random_state=2020).reset_index(drop=True)\n",
    "anomaly = df[df.Class == 1]"
   ]
  },
  {
   "cell_type": "code",
   "execution_count": 0,
   "metadata": {
    "application/vnd.databricks.v1+cell": {
     "cellMetadata": {
      "byteLimit": 2048000,
      "rowLimit": 10000
     },
     "inputWidgets": {},
     "nuid": "22ce2fad-b96d-4fe6-ae8e-13e77062932b",
     "showTitle": false,
     "title": ""
    }
   },
   "outputs": [
    {
     "output_type": "stream",
     "name": "stdout",
     "output_type": "stream",
     "text": [
      "Normal: (142158, 30)\nAnomaly: (492, 30)\n"
     ]
    }
   ],
   "source": [
    "print(f\"Normal: {normal.shape}\")\n",
    "print(f\"Anomaly: {anomaly.shape}\")"
   ]
  },
  {
   "cell_type": "code",
   "execution_count": 0,
   "metadata": {
    "application/vnd.databricks.v1+cell": {
     "cellMetadata": {
      "byteLimit": 2048000,
      "rowLimit": 10000
     },
     "inputWidgets": {},
     "nuid": "5d8e4e74-4514-497c-92f5-00870f5c0d60",
     "showTitle": false,
     "title": ""
    }
   },
   "outputs": [],
   "source": [
    "normal_train, normal_test = train_test_split(normal,test_size = 0.2, random_state = 2020)\n",
    "anomaly_train, anomaly_test = train_test_split(anomaly, test_size = 0.2, random_state = 2020)\n",
    "normal_train, normal_validate = train_test_split(normal_train,test_size = 0.25, random_state = 2020)\n",
    "anomaly_train, anomaly_validate = train_test_split(anomaly_train, test_size = 0.25, random_state = 2020)"
   ]
  },
  {
   "cell_type": "code",
   "execution_count": 0,
   "metadata": {
    "application/vnd.databricks.v1+cell": {
     "cellMetadata": {
      "byteLimit": 2048000,
      "rowLimit": 10000
     },
     "inputWidgets": {},
     "nuid": "d8b829c4-0aaa-4731-b522-791c56f36b5d",
     "showTitle": false,
     "title": ""
    }
   },
   "outputs": [],
   "source": [
    "x_train = pd.concat((normal_train, anomaly_train))\n",
    "x_test = pd.concat((normal_test, anomaly_test))\n",
    "x_validate = pd.concat((normal_validate, anomaly_validate))"
   ]
  },
  {
   "cell_type": "code",
   "execution_count": 0,
   "metadata": {
    "application/vnd.databricks.v1+cell": {
     "cellMetadata": {
      "byteLimit": 2048000,
      "rowLimit": 10000
     },
     "inputWidgets": {},
     "nuid": "0f9154fc-e384-4c11-8664-d189b7dd90aa",
     "showTitle": false,
     "title": ""
    }
   },
   "outputs": [],
   "source": [
    "y_train = np.array(x_train[\"Class\"])\n",
    "y_test = np.array(x_test[\"Class\"])\n",
    "y_validate = np.array(x_validate[\"Class\"])"
   ]
  },
  {
   "cell_type": "code",
   "execution_count": 0,
   "metadata": {
    "application/vnd.databricks.v1+cell": {
     "cellMetadata": {
      "byteLimit": 2048000,
      "rowLimit": 10000
     },
     "inputWidgets": {},
     "nuid": "218a641e-5e9c-4204-8bc5-6bb17b3ecf04",
     "showTitle": false,
     "title": ""
    }
   },
   "outputs": [],
   "source": [
    "x_train = x_train.drop(\"Class\", axis=1)\n",
    "x_test = x_test.drop(\"Class\", axis=1)\n",
    "x_validate = x_validate.drop(\"Class\", axis=1)"
   ]
  },
  {
   "cell_type": "code",
   "execution_count": 0,
   "metadata": {
    "application/vnd.databricks.v1+cell": {
     "cellMetadata": {
      "byteLimit": 2048000,
      "rowLimit": 10000
     },
     "inputWidgets": {},
     "nuid": "fce1f6fa-3643-4eb8-a6bf-8ad149712741",
     "showTitle": false,
     "title": ""
    }
   },
   "outputs": [
    {
     "output_type": "stream",
     "name": "stdout",
     "output_type": "stream",
     "text": [
      "Training sets:\nx_train: (85588, 29) \ny_train:(85588,)\n\nTesting sets:\nx_test: (28531, 29) \ny_test:(28531,)\n\nValidation sets:\nx_validate: (28531, 29) \ny_validate: (28531,)\n"
     ]
    }
   ],
   "source": [
    "print(\"Training sets:\\nx_train: {} \\ny_train:{}\".format(x_train.shape, y_train.shape))\n",
    "print(\"\\nTesting sets:\\nx_test: {} \\ny_test:{}\".format(x_test.shape, y_test.shape))\n",
    "print(\"\\nValidation sets:\\nx_validate: {} \\ny_validate: {}\".format(x_validate.shape, y_validate.shape))"
   ]
  },
  {
   "cell_type": "code",
   "execution_count": 0,
   "metadata": {
    "application/vnd.databricks.v1+cell": {
     "cellMetadata": {
      "byteLimit": 2048000,
      "rowLimit": 10000
     },
     "inputWidgets": {},
     "nuid": "f9673742-2221-44a7-87c0-36f5a0d330d3",
     "showTitle": false,
     "title": ""
    }
   },
   "outputs": [
    {
     "output_type": "stream",
     "name": "stdout",
     "output_type": "stream",
     "text": [
      "Out[14]: StandardScaler()"
     ]
    }
   ],
   "source": [
    "scaler = StandardScaler()\n",
    "scaler.fit(pd.concat((normal, anomaly)).drop(\"Class\", axis=1))"
   ]
  },
  {
   "cell_type": "code",
   "execution_count": 0,
   "metadata": {
    "application/vnd.databricks.v1+cell": {
     "cellMetadata": {
      "byteLimit": 2048000,
      "rowLimit": 10000
     },
     "inputWidgets": {},
     "nuid": "c722fc83-a64a-4356-b12f-7fd98db8b79d",
     "showTitle": false,
     "title": ""
    }
   },
   "outputs": [],
   "source": [
    "x_train = scaler.transform(x_train)\n",
    "x_test = scaler.transform(x_test)\n",
    "x_validate = scaler.transform(x_validate)"
   ]
  },
  {
   "cell_type": "code",
   "execution_count": 0,
   "metadata": {
    "application/vnd.databricks.v1+cell": {
     "cellMetadata": {
      "byteLimit": 2048000,
      "rowLimit": 10000
     },
     "inputWidgets": {},
     "nuid": "bfc4d63f-a9c7-4239-8d2c-2819312632ec",
     "showTitle": false,
     "title": ""
    }
   },
   "outputs": [],
   "source": [
    "def train(sk_model, x_train, y_train):\n",
    "    sk_model = sk_model.fit(x_train, y_train)\n",
    "    train_acc = sk_model.score(x_train, y_train)\n",
    "    mlflow.log_metric(\"train_acc\", train_acc)\n",
    "    print(f\"Train Accuracy: {train_acc:.3%}\")"
   ]
  },
  {
   "cell_type": "code",
   "execution_count": 0,
   "metadata": {
    "application/vnd.databricks.v1+cell": {
     "cellMetadata": {
      "byteLimit": 2048000,
      "rowLimit": 10000
     },
     "inputWidgets": {},
     "nuid": "cabf8c63-9946-40f5-a966-3bfa0b14bc3e",
     "showTitle": false,
     "title": ""
    }
   },
   "outputs": [],
   "source": [
    "def evaluate(sk_model, x_test, y_test):\n",
    "    eval_acc = sk_model.score(x_test, y_test)\n",
    "    preds = sk_model.predict(x_test)\n",
    "    auc_score = roc_auc_score(y_test, preds)\n",
    "    mlflow.log_metric(\"eval_acc\", eval_acc) # nous avons fait la même chose pour l'accuracy de test (evaluation)\n",
    "    mlflow.log_metric(\"auc_score\", auc_score)# aussi pour l'AUC score \n",
    "    print(f\"Auc Score: {auc_score:.3%}\")\n",
    "    print(f\"Eval Accuracy: {eval_acc:.3%}\")\n",
    "    roc_plot = plot_roc_curve(sk_model, x_test, y_test,name='Scikit-learn ROC Curve')\n",
    "    plt.savefig(\"sklearn_roc_plot.png\")\n",
    "    plt.show()\n",
    "    plt.clf()\n",
    "    conf_matrix = confusion_matrix(y_test, preds)\n",
    "    ax = sns.heatmap(conf_matrix, annot=True,fmt='g')\n",
    "    ax.invert_xaxis()\n",
    "    ax.invert_yaxis()\n",
    "    plt.ylabel('Actual')\n",
    "    plt.xlabel('Predicted')\n",
    "    plt.title(\"Confusion Matrix\")\n",
    "    plt.savefig(\"sklearn_conf_matrix.png\")\n",
    "    # nous avons dit à MLflow de sauvegarder ces deux figure afin de les consulter à chaque \n",
    "    # exécution d'une façon organisée comme nous allons le voir plus loin dans cet atelier  \n",
    "    mlflow.log_artifact(\"sklearn_roc_plot.png\")\n",
    "    mlflow.log_artifact(\"sklearn_conf_matrix.png\")"
   ]
  },
  {
   "cell_type": "code",
   "execution_count": 0,
   "metadata": {
    "application/vnd.databricks.v1+cell": {
     "cellMetadata": {
      "byteLimit": 2048000,
      "rowLimit": 10000
     },
     "inputWidgets": {},
     "nuid": "7dc551ab-f1ba-4b81-9173-580e0d155318",
     "showTitle": false,
     "title": ""
    }
   },
   "outputs": [
    {
     "output_type": "stream",
     "name": "stdout",
     "output_type": "stream",
     "text": [
      "Wrote 97 bytes.\nOut[18]: True"
     ]
    }
   ],
   "source": [
    "#to configure your DataBricks CLI\n",
    "token = dbutils.notebook.entry_point.getDbutils().notebook().getContext().apiToken().get()\n",
    "dbutils.fs.put(\"file:///root/.databrickscfg\",\"[DEFAULT]\\nhost=https://community.cloud.databricks.com\\ntoken =\"+token,overwrite=True)"
   ]
  },
  {
   "cell_type": "code",
   "execution_count": 0,
   "metadata": {
    "application/vnd.databricks.v1+cell": {
     "cellMetadata": {
      "byteLimit": 2048000,
      "rowLimit": 10000
     },
     "inputWidgets": {},
     "nuid": "ad5ef2cc-cf73-40fc-98ff-a9b4b2750298",
     "showTitle": false,
     "title": ""
    }
   },
   "outputs": [
    {
     "output_type": "stream",
     "name": "stderr",
     "output_type": "stream",
     "text": [
      "2024/01/07 19:35:15 INFO mlflow.tracking.fluent: Experiment with name '/Users/soukainaasghuri@gmail.com/scikit_learn_experiment1' does not exist. Creating a new experiment.\n/databricks/python/lib/python3.9/site-packages/sklearn/utils/optimize.py:210: ConvergenceWarning: newton-cg failed to converge. Increase the number of iterations.\n  warnings.warn(\n"
     ]
    },
    {
     "output_type": "stream",
     "name": "stdout",
     "output_type": "stream",
     "text": [
      "Train Accuracy: 99.893%\nAuc Score: 85.341%\nEval Accuracy: 99.874%\n"
     ]
    },
    {
     "output_type": "stream",
     "name": "stderr",
     "output_type": "stream",
     "text": [
      "/databricks/python/lib/python3.9/site-packages/sklearn/utils/deprecation.py:87: FutureWarning: Function plot_roc_curve is deprecated; Function :func:`plot_roc_curve` is deprecated in 1.0 and will be removed in 1.2. Use one of the class methods: :meth:`sklearn.metric.RocCurveDisplay.from_predictions` or :meth:`sklearn.metric.RocCurveDisplay.from_estimator`.\n  warnings.warn(msg, category=FutureWarning)\n"
     ]
    },
    {
     "output_type": "display_data",
     "data": {
      "image/png": "[encoded data removed]"
     },
     "metadata": {
      "application/vnd.databricks.v1+output": {
       "addedWidgets": {},
       "arguments": {},
       "data": "data:image/png;base64,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\n",
       "datasetInfos": [],
       "metadata": {},
       "removedWidgets": [],
       "type": "image"
      }
     },
     "output_type": "display_data"
    },
    {
     "output_type": "stream",
     "name": "stderr",
     "output_type": "stream",
     "text": [
      "2024/01/07 19:35:18 WARNING mlflow.models.model: Model logged without a signature. Signatures will be required for upcoming model registry features as they validate model inputs and denote the expected schema of model outputs. Please visit https://www.mlflow.org/docs/2.9.2/models.html#set-signature-on-logged-model for instructions on setting a model signature on your logged model.\n2024/01/07 19:35:18 WARNING mlflow.utils.environment: Encountered an unexpected error while inferring pip requirements (model URI: /local_disk0/repl_tmp_data/ReplId-77a59-e6113-cc877-e/tmpxkn567ph/model/model.pkl, flavor: sklearn), fall back to return ['scikit-learn==1.0.2', 'cloudpickle==3.0.0']. Set logging level to DEBUG to see the full traceback.\n/databricks/python/lib/python3.9/site-packages/_distutils_hack/__init__.py:30: UserWarning: Setuptools is replacing distutils.\n  warnings.warn(\"Setuptools is replacing distutils.\")\n"
     ]
    },
    {
     "output_type": "stream",
     "name": "stdout",
     "output_type": "stream",
     "text": [
      "Model run:  c5f16f1877a749599dc33b7cd3fbc834\n"
     ]
    },
    {
     "output_type": "display_data",
     "data": {
      "image/png": "[encoded data removed]"
     },
     "metadata": {
      "application/vnd.databricks.v1+output": {
       "addedWidgets": {},
       "arguments": {},
       "data": "data:image/png;base64,iVBORw0KGgoAAAANSUhEUgAAAXsAAAEWCAYAAACHVDePAAAAOXRFWHRTb2Z0d2FyZQBNYXRwbG90bGliIHZlcnNpb24zLjUuMSwgaHR0cHM6Ly9tYXRwbG90bGliLm9yZy/YYfK9AAAACXBIWXMAAAsTAAALEwEAmpwYAAAeu0lEQVR4nO3deZxU1ZnG8d/D5oIbi6ACbhHNECcSE43RaDQmCC4BE6NoRokhadx3g0sibpPEuMQl6oiKu4BLRFQUlZhBk6igoAio4A4iKCAqOBG63/mjTmNJeqluu7u66j7ffM6nq86999xTHXzr9HvPPVcRgZmZlbc2xe6AmZk1Pwd7M7MMcLA3M8sAB3szswxwsDczywAHezOzDHCwty9N0jqSHpC0TNLdX6Kdn0l6tCn7VgySHpY0pNj9MMvnYJ8hkg6TNFXSJ5IWpKD03SZo+iCgO9AlIn7a2EYi4o6I6NcE/fkCSXtKCkn3rVG/Q6r/W4HtnCvp9vr2i4gBEXFLI7tr1iwc7DNC0inA5cDvyAXmzYFrgIFN0PwWwKsRsaoJ2mou7wPfkdQlr24I8GpTnUA5/m/KWiX/w8wASRsC5wPHRsRfImJ5RKyMiAci4vS0z1qSLpf0biqXS1orbdtT0jxJp0palP4qODJtOw84Bzgk/cUwdM0RsKQt0wi6XXr/c0mvS/pY0huSfpZX/1TecbtKmpLSQ1Mk7Zq37W+SLpD099TOo5K61vFr+AwYBwxOx7cFDgHuWON3dYWkdyR9JOk5Sbun+v7AWXmf84W8fvy3pL8DK4CtU90v0/ZrJd2b1/5FkiZJUqH//5k1BQf7bPgOsDZwXx37nA3sAvQFdgB2Bn6Tt30TYEOgBzAUuFpSp4gYQe6vhbERsV5E3FhXRyR1BK4EBkTE+sCuwPQa9usMPJT27QJcBjy0xsj8MOBIoBvQATitrnMDtwJHpNf7AC8B766xzxRyv4POwJ3A3ZLWjohH1vicO+QdczhQAawPvLVGe6cC/5m+yHYn97sbEl6nxFqYg302dAE+qCfN8jPg/IhYFBHvA+eRC2LVVqbtKyNiAvAJsF0j+1MFbC9pnYhYEBEza9hnP2BORNwWEasiYjTwMnBA3j43RcSrEfEpcBe5IF2riPgH0FnSduSC/q017HN7RCxO57wUWIv6P+fNETEzHbNyjfZWkPs9XgbcDhwfEfPqac+syTnYZ8NioGt1GqUWm/HFUelbqW51G2t8WawA1mtoRyJiObn0yVHAAkkPSfpqAf2p7lOPvPfvNaI/twHHAXtRw186kk6TNDuljj4k99dMXekhgHfq2hgRzwCvAyL3pWTW4hzss+GfwL+AQXXs8y65C63VNuffUxyFWg6sm/d+k/yNETExIn4IbEputH59Af2p7tP8Rvap2m3AMcCENOpeLaVZfg0cDHSKiI2AZeSCNEBtqZc6UzKSjiX3F8K7qX2zFudgnwERsYzcRdSrJQ2StK6k9pIGSPpj2m008BtJG6cLneeQSzs0xnRgD0mbp4vDZ1ZvkNRd0sCUu/8XuXRQVQ1tTAC2TdNF20k6BOgDPNjIPgEQEW8A3yN3jWJN6wOryM3caSfpHGCDvO0LgS0bMuNG0rbAhcB/kUvn/FpS38b13qzxHOwzIuWfTyF30fV9cqmH48jNUIFcQJoKvAjMAJ5PdY0512PA2NTWc3wxQLdJ/XgXWEIu8B5dQxuLgf3JXeBcTG5EvH9EfNCYPq3R9lMRUdNfLROBR8hNx3wL+D++mKKpvmFssaTn6ztPSpvdDlwUES9ExBxyM3puq57pZNZS5EkBZmblzyN7M7MMcLA3M8sAB3szswxwsDczy4C6brIpqnYdevjKsZkVZNVn87/0WkMrP3i94JjTvuvWJbe2UasN9mZmLaqqstg9aFYO9mZmAFHTvX3lw8HezAygysHezKzshUf2ZmYZUNmaH7T25TnYm5mBL9CamWWC0zhmZhngC7RmZuXPF2jNzLLAI3szswyoXFn/PiXMwd7MDHyB1swsE5zGMTPLAI/szcwywCN7M7PyF1W+QGtmVv48sjczywDn7M3MMsALoZmZZYBH9mZmGeCcvZlZBpT5w0vaFLsDZmatQlVV4aUOknpJekLSLEkzJZ2Y6s+VNF/S9FT2zTvmTElzJb0iaZ+8+v6pbq6kM/Lqt5L0TKofK6lDfR/Pwd7MDIioLLjUYxVwakT0AXYBjpXUJ237U0T0TWUCQNo2GPga0B+4RlJbSW2Bq4EBQB/g0Lx2LkptbQMsBYbW1ykHezMzaLKRfUQsiIjn0+uPgdlAjzoOGQiMiYh/RcQbwFxg51TmRsTrEfEZMAYYKEnA94F70vG3AIPq+3gO9mZmkJuNU2gpkKQtgW8Az6Sq4yS9KGmUpE6prgfwTt5h81JdbfVdgA8jYtUa9XVysDczgwaN7CVVSJqaVyrWbE7SesC9wEkR8RFwLfAVoC+wALi0JT+eZ+OYmUGDZuNExEhgZG3bJbUnF+jviIi/pGMW5m2/HngwvZ0P9Mo7vGeqo5b6xcBGktql0X3+/rXyyN7MDJosjZNy6jcCsyPisrz6TfN2OxB4Kb0eDwyWtJakrYDewLPAFKB3mnnTgdxF3PEREcATwEHp+CHA/fV9PI/szcygKW+q2g04HJghaXqqO4vcbJq+QABvAsMAImKmpLuAWeRm8hwbacqPpOOAiUBbYFREzEztDQfGSLoQmEbuy6VOyn1JtD7tOvRonR0zs1Zn1Wfz9WXb+PShywuOOevsd9KXPl9L88jezAy8No6ZWSaU+XIJDvZmZuCF0MzMMsFpHDOzDPDI3swsAxzszcwyoJVOQ28qDvZmZgCrPBvHzKz8+QKtmVkGOGdvZpYBztmbmWWAR/ZmZhngYG9mVv6ist4HiZc0B3szM/DI3swsEzz10swsA6o8G8fMrPw5jWNmlgFlfoG2TbE7YF+07bZfYeqUR1eXJR+8zAnH/5JOnTbikQmjmT3zKR6ZMJqNNtqw2F21FtKz52Y8/ujdvPjCE7ww/a8cf9xQAL7+9T48NXk8055/nHH33cz6669X5J6WuKqqwksJ8gPHW7E2bdrw9pvPset39+eYo3/OkiUf8seLr+bXpx9Lp04bcuZZvyt2F60FbLJJNzbdpBvTpr/Eeut15NlnHuEnB/2CUTdezvDhFzD5yaf5+ZBD2GqrzRlx7sXF7m5RNMUDx1dc8suCY866p91Qcg8c98i+Fdv7+9/l9dff4u2353PAAftw6213A3DrbXfzox/1L3LvrKW8994ipk1/CYBPPlnOyy/Pocdmm7Bt762Z/OTTADw+6UkOPHDfYnaz9EVV4aUEOdi3YgcfPJAxY8cB0L1bV957bxGQ+4+/e7euReyZFcsWW/Sk7w7b88yz05g161V+9KN9ADjoJ/vTq+dmRe5diauKwksJavFgL+nIOrZVSJoqaWpV1fKW7Far0759ew7Yvx/33Ptgjdtba/rNmk/Hjuty19jrOeW0EXz88Sf8suIUjh42hGeefpj11+/IZ5+tLHYXS1pUVRVcSlExZuOcB9xU04aIGAmMBOfs+/ffi2nTZrBo0QcALFz0AZts0o333lvEJpt0Y9H7i4vcQ2tJ7dq14+6x1zN69H2MG/cwAK+88hoD9jsMgN69t2bfAXsXs4ulz7NxGk7Si7WUGUD35jhnuRl8yKDVKRyABx94lCMO/ykARxz+Ux54YGKRembFcP3IS5n98lwuv2Lk6rqNN+4CgCTOOvNErht5W7G6Vx7KPI3TLLNxJC0E9gGWrrkJ+EdE1JtczPLIft111+GN16bQe7vv8NFHHwPQuXMnxtz5P/Tq1YO3357H4MOOYunSD4vbUWsRu+26E//7t3G8OGMWVSnQ/Pa3f2Cbbbbi6KN/DsC4cRM46+zfF7GXxdUUs3GWn3towTGn47mjS242TnMF+xuBmyLiqRq23RkRh9XXRpaDvZk1TJME+3MGFx7szx9TcsG+WXL2ETG0jm31BnozsxZXolMqC+XlEszMoGRz8YXyPHszMyBWVRZc6iKpl6QnJM2SNFPSiam+s6THJM1JPzulekm6UtLcNJFlx7y2hqT950gaklf/TUkz0jFXSqo3reRgb2YGTTkbZxVwakT0AXYBjpXUBzgDmBQRvYFJ6T3AAKB3KhXAtZD7cgBGAN8GdgZGVH9BpH1+lXdcvbfUO9ibmUGTLZcQEQsi4vn0+mNgNtADGAjckna7BRiUXg8Ebo2cp4GNJG1KbkbjYxGxJCKWAo8B/dO2DSLi6cjNsLk1r61aOdibmUGDRvb5d/unUlFTk5K2BL4BPAN0j4gFadN7fH7PUQ/gnbzD5qW6uurn1VBfJ1+gNTMDogEXaPPv9q+NpPWAe4GTIuKj/LR6RISkFr0i7JG9mRnAqsrCSz0ktScX6O+IiL+k6oUpBUP6uSjVzwd65R3eM9XVVd+zhvo6OdibmUGTXaBNM2NuBGZHxGV5m8YD1TNqhgD359UfkWbl7AIsS+meiUA/SZ3Shdl+wMS07SNJu6RzHZHXVq2cxjEzg6acZ78bcDgwQ9L0VHcW8AfgLklDgbeAg9O2CcC+wFxgBXAkQEQskXQBMCXtd35ELEmvjwFuBtYBHk6lTn5SlZmVvKZYLuGjYfsUHHM2uG6il0swMytJZX4HrYO9mRk42JuZZUGs8kJoZmblr7xjvYO9mRk07KaqUuRgb2YGztmbmWWC0zhmZuXPaRwzswyIVQ72Zmblz2kcM7PyV+bPG3ewNzMDPLI3M8sCj+zNzDIgVhW7B83Lwd7MDI/szcwywcHezCwLouSeR9IgDvZmZnhkb2aWCVHlkb2ZWdmrqnSwNzMre07jmJllgNM4ZmYZEOW96KWDvZkZeGRvZpYJvkBrZpYBmR3ZS7oKqDWLFREnNEuPzMyKIDJ8B+3UFuuFmVmRZXbqZUTc0pIdMTMrpqoyH9m3qW8HSRtLukTSBEl/rS4t0Tkzs5YSoYJLfSSNkrRI0kt5dedKmi9peir75m07U9JcSa9I2ievvn+qmyvpjLz6rSQ9k+rHSupQX5/qDfbAHcBsYCvgPOBNYEoBx5mZlYyqShVcCnAz0L+G+j9FRN9UJgBI6gMMBr6WjrlGUltJbYGrgQFAH+DQtC/ARamtbYClwND6OlRIsO8SETcCKyPifyPiF8D3CzjOzKxkRJUKLvW2FTEZWFLgqQcCYyLiXxHxBjAX2DmVuRHxekR8BowBBkoSuRh8Tzr+FmBQfScpJNivTD8XSNpP0jeAzgV+CDOzklAVKrhIqpA0Na9UFHia4yS9mNI8nVJdD+CdvH3mpbra6rsAH0asfpBidX2dCplnf6GkDYFTgauADYCTCzjOzKxkNGTqZUSMBEY28BTXAheQm9J+AXAp8IsGttFo9Qb7iHgwvVwG7NW83TEzK47mXhsnIhZWv5Z0PVAdW+cDvfJ27ZnqqKV+MbCRpHZpdJ+/f63qDfaSbqKGm6tS7t7MrCw099RLSZtGxIL09kCgeqbOeOBOSZcBmwG9gWcBAb0lbUUumA8GDouIkPQEcBC5PP4Q4P76zl9IGufBvNdrp06+W8BxZmYlo6oJl0uQNBrYE+gqaR4wAthTUl9yg+c3gWEAETFT0l3ALGAVcGxEVKZ2jgMmAm2BURExM51iODBG0oXANODGevsUDfzbRVIb4KmI2LVBBzZQuw49ynzBUTNrKqs+m/+lI/XUnoMKjjnfmjeu5O7AasxCaL2Bbk3dEbNCfPruk8XugpWpLK+NA4Ckj/lizv49cn9CmJmVjXJfLqGQ2Tjrt0RHzMyKqdzzxoWsjTOpkDozs1JWWdWm4FKK6lrPfm1gXXJXkzuRmwYEuZuq6r1by8yslJT5Csd1pnGGASeRm/f5HJ8H+4+APzdvt8zMWlaQ0Zx9RFwBXCHp+Ii4qgX7ZGbW4qrKPGlfSPKpStJG1W8kdZJ0TPN1ycys5VWhgkspKiTY/yoiPqx+ExFLgV81W4/MzIogUMGlFBVyU1VbSYp0q21aUL/ep6KYmZWSyhIN4oUqJNg/AoyVdF16Pwx4uPm6ZGbW8rI8G6facKACOCq9fxHYpNl6ZGZWBOUe7OvN2UdEFfAMuVXadib3OKzZzdstM7OWldmcvaRtgUNT+QAYCxARfoCJmZWdJlzhuFWqK43zMvAksH9EzAWQ5McRmllZKtUplYWqK43zY2AB8ISk6yXtDWX+2zCzzKpsQClFtQb7iBgXEYOBrwJPkFs6oZukayX1a6H+mZm1iCqp4FKKCrlAuzwi7oyIA8g92HYaXs/ezMpMNKCUogat1RkRSyNiZETs3VwdMjMrhqoGlFLUmMcSmpmVnSzPxjEzywwvl2BmlgEe2ZuZZUCp5uIL5WBvZkbpzrIplIO9mRlO45iZZYLTOGZmGVDpkb2ZWfnzyN7MLAPKPdg3aLkEM7Ny1ZRr40gaJWmRpJfy6jpLekzSnPSzU6qXpCslzZX0oqQd844ZkvafI2lIXv03Jc1Ix1wp1b86m4O9mRm52TiFlgLcDPRfo+4MYFJE9AYmpfcAA4DeqVQA10LuywEYAXyb3FMCR1R/QaR9fpV33Jrn+jcO9mZmNO1CaBExGViyRvVA4Jb0+hZgUF79rZHzNLCRpE2BfYDHImJJRCwFHgP6p20bRMTTERHArXlt1crB3syMhj28RFKFpKl5paKAU3SPiAXp9XtA9/S6B/BO3n7zUl1d9fNqqK+TL9CamdGwm6oiYiQwsrHnioiQ1KI37Xpkb2ZGi6xnvzClYEg/F6X6+UCvvP16prq66nvWUF8nB3szM1rkSVXjgeoZNUOA+/Pqj0izcnYBlqV0z0Sgn6RO6cJsP2Bi2vaRpF3SLJwj8tqqldM4ZmZAVRMuhSZpNLAn0FXSPHKzav4A3CVpKPAWcHDafQKwLzAXWAEcCRARSyRdAExJ+50fEdUXfY8hN+NnHeDhVOrkYG9mRu7Ca1OJiENr2fRvj3RNM2qOraWdUcCoGuqnAts3pE8O9mZmlP8dtA72ZmZ4iWMzs0xoypx9a+Rgb2aGn1RlZpYJztmbmWVAZZmP7R3szczwyN7MLBN8gdbMLAPKO9Q72JuZAU7jmJllgi/QmpllgHP2VjTbbvsV7rzj2tXvt95qc8497xKuvOqGIvbKmtKChe9z1gWXsHjpUoQ4aOAADj94EC+/+hrnX3wV//psJW3btuW3px3Lf/bZbvVxM2a/wn8NO4WLzzuDfnvtzsuvvsYFl/yZT5avoE3bNlQcMZgBP/geAGdfeClTp89gvY4dAfjvs0/hq9t+pSiftzUr71DvYN+qvfrqa3xrp34AtGnThrfffI5x99e7kqmVkHZt23L68b+iz3bbsHz5Cg4eegK77vQNLr3mRo7+xc/Y/Ts7Mfkfz3LpNTdy85//CEBlZSV/uuYmdt1px9XtrL32Wvzut6exRa8eLHp/MQcPPZ7dvv1NNlh/PQBOPXYo/fbavSifsVR4ZG+twt7f/y6vv/4Wb79d7wNprIRs3LUzG3ftDEDHjuuy9Ra9WPj+YiTxyfIVAHyyfAXdunZZfcyd94znh3vuxkuzX11dt+Xmnz+4qNvGXejcaSOWfrhsdbC3+vkCbSNJ+iq5p6ZXPwh3PjA+ImY31znL2cEHD2TM2HHF7oY1o/kLFjJ7zmt8/WvbMfzEYQw75TdccvUNRFVw+3WXArDw/Q+YNPkfjLrqoi8E+3wzZr3CypWr6NVj09V1V153C9fedCe7fLMvJx99JB06dGiRz1RKosxH9s3yWEJJw4ExgIBnUxEwWtIZdRy3+ontVVXLm6NrJal9+/YcsH8/7rn3wWJ3xZrJihWfcvLZFzL8hGGs17EjY+97iOHHVzDpvtv49QkVnPP7ywG46IrrOPnoX9CmTc3/6b7/wRLOPP9iLjzr5NX7nHTUkTww+nrG3nAFyz76mBtvv7ulPlZJqSQKLqWouUb2Q4GvRcTK/EpJlwEzyT2e69/kP7G9XYcepfkbbQb9++/FtGkzWLTog2J3xZrBylWrOOnsC9mv3178cM/dABj/8OOcedJRAOzz/d0Z8YfLAZj58hxOH5H7z2fpso948p9TaNu2LXvvsSufLF/OMaefwwnDhrDD9v+xuv3qNFGHDh0YtF8/bh59bwt+utLhNE7jVAGbkXvOYr5NKf/faZMbfMggp3DKVERwzu8vZ+stejFk8I9X12/ctQtTps1g5x2/zjPPTWeLXrls6MR7bl69z9kXXsr3dtuZvffYlZUrV3LimRfwo/57/9uF2Pc/WMLGXTsTEfx18j/ovfUWLfLZSk1VlPf4srmC/UnAJElzgHdS3ebANsBxzXTOsrTuuuvwg7334Ohjhhe7K9YMpr04kwcemUTvr2zJT4bkHkN64rAhnDf8BP5wxXWsqqxkrQ4dGPHrE+ps55G/Pslz01/iw2UfM27C48DnUyyHn/dHln64jIhgu95bM+L045v9c5Wi8g71oGimbzNJbYCd+eIF2ikRUdBzfZ3GsZp8+u6Txe6CtULtu279pR8qeNgWBxYcc+58676Se4hhs83GiYgq4Onmat/MrCmV+2wcz7M3MwNWOdibmZU/j+zNzDKg3KcJOtibmZGbBlvOHOzNzPBCaGZmmVCqyyAUysHezIzyH9k3y0JoZmalJiIKLvWR9KakGZKmS5qa6jpLekzSnPSzU6qXpCslzZX0oqQd89oZkvafI2nIl/l8DvZmZuRm4xRaCrRXRPSNiG+l92cAkyKiNzApvQcYAPROpQK4FnJfDsAI4NvkViMYUf0F0RgO9mZm5ObZF/q/RhoI3JJe3wIMyqu/NXKeBjaStCmwD/BYRCyJiKXAY0D/xp7cwd7MjFzOvtBSgAAelfScpIpU1z0iFqTX7wHd0+sefL5gJMC8VFdbfaP4Aq2ZGVAZhSdoUgCvyKsamZ7HUe27ETFfUjfgMUkv5x8fESGpRa8IO9ibmdGw5RLyH7RUy/b56eciSfeRy7kvlLRpRCxIaZpFaff5QK+8w3umuvnAnmvU/63gTq7BaRwzM3IPLym01EVSR0nrV78G+gEvAeOB6hk1Q4D70+vxwBFpVs4uwLKU7pkI9JPUKV2Y7ZfqGsUjezMzmvThJd2B+yRBLsbeGRGPSJoC3CVpKLmn+B2c9p8A7AvMBVYARwJExBJJFwBT0n7nR8SSxnbKwd7MjKa7qSoiXgd2qKF+MbB3DfUBHFtLW6OAUU3RLwd7MzPK/w5aB3szMxo2G6cUOdibmeGHl5iZZYLXszczywDn7M3MMsAjezOzDKgs86fQOtibmUG9d8aWOgd7MzM8G8fMLBM8sjczywCP7M3MMsAjezOzDPByCWZmGeA0jplZBoRH9mZm5c/LJZiZZYCXSzAzywCP7M3MMqCyyjl7M7Oy59k4ZmYZ4Jy9mVkGOGdvZpYBHtmbmWWAL9CamWWA0zhmZhngNI6ZWQZ4iWMzswzwPHszswzwyN7MLAOqvMSxmVn58wVaM7MMcLA3M8uA8g71oHL/NisHkioiYmSx+2Gti/9dWEO0KXYHrCAVxe6AtUr+d2EFc7A3M8sAB3szswxwsC8NzstaTfzvwgrmC7RmZhngkb2ZWQY42JuZZYCDfSsmaZSkRZJeKnZfrHWR1F/SK5LmSjqj2P2x1s/BvnW7Gehf7E5Y6yKpLXA1MADoAxwqqU9xe2WtnYN9KxYRk4Elxe6HtTo7A3Mj4vWI+AwYAwwscp+slXOwNys9PYB38t7PS3VmtXKwNzPLAAd7s9IzH+iV975nqjOrlYO9WemZAvSWtJWkDsBgYHyR+2StnIN9KyZpNPBPYDtJ8yQNLXafrPgiYhVwHDARmA3cFREzi9sra+28XIKZWQZ4ZG9mlgEO9mZmGeBgb2aWAQ72ZmYZ4GBvZpYBDvbWLCRVSpou6SVJd0ta90u0dbOkg9LrG+pa9EvSnpJ2bcQ53pTUtbF9NGvtHOytuXwaEX0jYnvgM+Co/I2S2jWm0Yj4ZUTMqmOXPYEGB3uzcudgby3hSWCbNOp+UtJ4YJaktpIuljRF0ouShgEo589pvfbHgW7VDUn6m6Rvpdf9JT0v6QVJkyRtSe5L5eT0V8XukjaWdG86xxRJu6Vju0h6VNJMSTcAauHfiVmLatToyqxQaQQ/AHgkVe0IbB8Rb0iqAJZFxE6S1gL+LulR4BvAduTWau8OzAJGrdHuxsD1wB6prc4RsUTS/wCfRMQlab87gT9FxFOSNid31+l/ACOApyLifEn7Ab472cqag701l3UkTU+vnwRuJJdeeTYi3kj1/YCvV+fjgQ2B3sAewOiIqATelfTXGtrfBZhc3VZE1Lbu/w+APtLqgfsGktZL5/hxOvYhSUsb9zHNSoODvTWXTyOib35FCrjL86uA4yNi4hr77duE/WgD7BIR/1dDX8wywzl7K6aJwNGS2gNI2lZSR2AycEjK6W8K7FXDsU8De0jaKh3bOdV/DKyft9+jwPHVbyT1TS8nA4elugFAp6b6UGatkYO9FdMN5PLxz6eHql9H7q/N+4A5adut5Fb+/IKIeB+oAP4i6QVgbNr0AHBg9QVa4ATgW+kC8Cw+nxV0Hrkvi5nk0jlvN9NnNGsVvOqlmVkGeGRvZpYBDvZmZhngYG9mlgEO9mZmGeBgb2aWAQ72ZmYZ4GBvZpYB/w8Oit/SLGK9kAAAAABJRU5ErkJggg==\n",
       "datasetInfos": [],
       "metadata": {},
       "removedWidgets": [],
       "type": "image"
      }
     },
     "output_type": "display_data"
    }
   ],
   "source": [
    "sk_model = LogisticRegression(random_state=None,max_iter=10, solver='newton-cg')\n",
    "mlflow.set_experiment(\"/Users/soukainaasghuri@gmail.com/scikit_learn_experiment1\")\n",
    "with mlflow.start_run():\n",
    "    train(sk_model, x_train, y_train)\n",
    "    evaluate(sk_model, x_test, y_test)\n",
    "    mlflow.sklearn.log_model(sk_model, \"log_reg_model\")\n",
    "    print(\"Model run: \", mlflow.active_run().info.run_uuid)\n",
    "mlflow.end_run()"
   ]
  },
  {
   "cell_type": "code",
   "execution_count": 0,
   "metadata": {
    "application/vnd.databricks.v1+cell": {
     "cellMetadata": {
      "byteLimit": 2048000,
      "rowLimit": 10000
     },
     "inputWidgets": {},
     "nuid": "3413c518-1432-486b-89d1-31de2aadbbf5",
     "showTitle": false,
     "title": ""
    }
   },
   "outputs": [
    {
     "output_type": "stream",
     "name": "stdout",
     "output_type": "stream",
     "text": [
      "Out[25]: '\\n# define evaluation\\n\\n# define search space\\nfrom sklearn.model_selection import RepeatedStratifiedKFold\\nfrom sklearn.model_selection import RandomizedSearchCV\\nfrom scipy.stats import loguniform\\n# summarize result\\n#print(\\'Best Score: %s\\' % result.best_score_)\\n#print(\\'Best Hyperparameters: %s\\' % result.best_params_)\\n\\nmodel = LogisticRegression()\\ncv = RepeatedStratifiedKFold(n_splits=10, n_repeats=3, random_state=1)\\nspace = dict()\\nspace[\\'solver\\'] = [\\'newton-cg\\', \\'lbfgs\\', \\'liblinear\\']\\nspace[\\'penalty\\'] = [\\'none\\', \\'l1\\', \\'l2\\', \\'elasticnet\\']\\nspace[\\'C\\'] = loguniform(1e-5, 100)\\nmlflow.set_experiment(\"/Users/soukainaasghuri@gmail.com/scikit_learn_experiment1\")\\nwith mlflow.start_run():\\n    search = RandomizedSearchCV(model, space, n_iter=500, scoring=\\'accuracy\\', n_jobs=-1, cv=cv, random_state=1)\\n    sk_model = search.fit(x_train, y_train)\\n    train(sk_model, x_train, y_train)\\n    evaluate(sk_model, x_test, y_test)\\n    mlflow.sklearn.log_model(sk_model, \"log_reg_model\")\\n    print(\"Model run: \", mlflow.active_run().info.run_uuid)\\nmlflow.end_run()\\n'"
     ]
    }
   ],
   "source": [
    "'''\n",
    "# define evaluation\n",
    "\n",
    "# define search space\n",
    "from sklearn.model_selection import RepeatedStratifiedKFold\n",
    "from sklearn.model_selection import RandomizedSearchCV\n",
    "from scipy.stats import loguniform\n",
    "# summarize result\n",
    "#print('Best Score: %s' % result.best_score_)\n",
    "#print('Best Hyperparameters: %s' % result.best_params_)\n",
    "\n",
    "model = LogisticRegression()\n",
    "cv = RepeatedStratifiedKFold(n_splits=10, n_repeats=3, random_state=1)\n",
    "space = dict()\n",
    "space['solver'] = ['newton-cg', 'lbfgs', 'liblinear']\n",
    "space['penalty'] = ['none', 'l1', 'l2', 'elasticnet']\n",
    "space['C'] = loguniform(1e-5, 100)\n",
    "mlflow.set_experiment(\"/Users/soukainaasghuri@gmail.com/scikit_learn_experiment1\")\n",
    "with mlflow.start_run():\n",
    "    search = RandomizedSearchCV(model, space, n_iter=500, scoring='accuracy', n_jobs=-1, cv=cv, random_state=1)\n",
    "    sk_model = search.fit(x_train, y_train)\n",
    "    train(sk_model, x_train, y_train)\n",
    "    evaluate(sk_model, x_test, y_test)\n",
    "    mlflow.sklearn.log_model(sk_model, \"log_reg_model\")\n",
    "    print(\"Model run: \", mlflow.active_run().info.run_uuid)\n",
    "mlflow.end_run()\n",
    "'''"
   ]
  },
  {
   "cell_type": "code",
   "execution_count": 0,
   "metadata": {
    "application/vnd.databricks.v1+cell": {
     "cellMetadata": {
      "byteLimit": 2048000,
      "rowLimit": 10000
     },
     "inputWidgets": {},
     "nuid": "484c7e86-82b2-4fea-aacf-15612b24dff7",
     "showTitle": false,
     "title": ""
    }
   },
   "outputs": [
    {
     "output_type": "display_data",
     "data": {
      "text/html": [
       "<style scoped>\n",
       "  .table-result-container {\n",
       "    max-height: 300px;\n",
       "    overflow: auto;\n",
       "  }\n",
       "  table, th, td {\n",
       "    border: 1px solid black;\n",
       "    border-collapse: collapse;\n",
       "  }\n",
       "  th, td {\n",
       "    padding: 5px;\n",
       "  }\n",
       "  th {\n",
       "    text-align: left;\n",
       "  }\n",
       "</style><div class='table-result-container'><table class='table-result'><thead style='background-color: white'><tr><th>run_id</th><th>experiment_id</th><th>status</th><th>artifact_uri</th><th>start_time</th><th>end_time</th><th>metrics.auc_score</th><th>metrics.eval_acc</th><th>metrics.train_acc</th><th>tags.mlflow.databricks.cluster.id</th><th>tags.mlflow.databricks.notebookRevisionID</th><th>tags.mlflow.user</th><th>tags.mlflow.databricks.workspaceID</th><th>tags.mlflow.databricks.workspaceURL</th><th>tags.mlflow.databricks.notebookPath</th><th>tags.mlflow.source.name</th><th>tags.mlflow.runName</th><th>tags.mlflow.databricks.notebookID</th><th>tags.mlflow.source.type</th><th>tags.mlflow.databricks.cluster.info</th><th>tags.mlflow.databricks.notebook.commandID</th><th>tags.mlflow.databricks.webappURL</th><th>tags.mlflow.databricks.cluster.libraries</th><th>tags.mlflow.log-model.history</th></tr></thead><tbody><tr><td>430b89fbbd1a4d4b92cafddb1a614cab</td><td>266955086784235</td><td>FAILED</td><td>dbfs:/databricks/mlflow-tracking/266955086784235/430b89fbbd1a4d4b92cafddb1a614cab/artifacts</td><td>2024-01-07T19:35:46.014+0000</td><td>2024-01-07T19:47:28.417+0000</td><td>null</td><td>null</td><td>null</td><td>0107-192731-h78yjn14</td><td>1704656848746</td><td>soukainaasghuri@gmail.com</td><td>1200065882693177</td><td>https://community.cloud.databricks.com</td><td>/Users/soukainaasghuri@gmail.com/5. MLflow-DataBricks (1)</td><td>/Users/soukainaasghuri@gmail.com/5. MLflow-DataBricks (1)</td><td>welcoming-smelt-649</td><td>266955086784210</td><td>NOTEBOOK</td><td>{\"cluster_name\":\"cluster\",\"spark_version\":\"12.2.x-scala2.12\",\"node_type_id\":\"dev-tier-node\",\"driver_node_type_id\":\"dev-tier-node\",\"autotermination_minutes\":120,\"disk_spec\":{\"disk_count\":0},\"num_workers\":0}</td><td>8621471201451870078_7508327980813974813_c5ae2b2d05554710b4e4ad3fd604d20a</td><td>https://community.cloud.databricks.com</td><td>{\"installable\":[],\"redacted\":[]}</td><td>null</td></tr><tr><td>c5f16f1877a749599dc33b7cd3fbc834</td><td>266955086784235</td><td>FINISHED</td><td>dbfs:/databricks/mlflow-tracking/266955086784235/c5f16f1877a749599dc33b7cd3fbc834/artifacts</td><td>2024-01-07T19:35:15.822+0000</td><td>2024-01-07T19:35:19.239+0000</td><td>0.8534122528037835</td><td>0.9987382145736217</td><td>0.9989250829555545</td><td>0107-192731-h78yjn14</td><td>1704656119396</td><td>soukainaasghuri@gmail.com</td><td>1200065882693177</td><td>https://community.cloud.databricks.com</td><td>/Users/soukainaasghuri@gmail.com/5. MLflow-DataBricks (1)</td><td>/Users/soukainaasghuri@gmail.com/5. MLflow-DataBricks (1)</td><td>ambitious-slug-500</td><td>266955086784210</td><td>NOTEBOOK</td><td>{\"cluster_name\":\"cluster\",\"spark_version\":\"12.2.x-scala2.12\",\"node_type_id\":\"dev-tier-node\",\"driver_node_type_id\":\"dev-tier-node\",\"autotermination_minutes\":120,\"disk_spec\":{\"disk_count\":0},\"num_workers\":0}</td><td>8621471201451870078_7934210292463334356_f470c68dda9544e98aed88d7c51786f0</td><td>https://community.cloud.databricks.com</td><td>{\"installable\":[],\"redacted\":[]}</td><td>[{\"artifact_path\":\"log_reg_model\",\"flavors\":{\"python_function\":{\"model_path\":\"model.pkl\",\"env\":\"conda.yaml\",\"loader_module\":\"mlflow.sklearn\",\"python_version\":\"3.9.5\"},\"sklearn\":{\"pickled_model\":\"model.pkl\",\"sklearn_version\":\"1.0.2\",\"serialization_format\":\"cloudpickle\"}},\"run_id\":\"c5f16f1877a749599dc33b7cd3fbc834\",\"model_uuid\":\"1adac9eafbe74094ad2a271d09614b63\",\"utc_time_created\":\"2024-01-07 19:35:18.524732\",\"mlflow_version\":\"2.9.2\",\"databricks_runtime\":\"12.2.x-scala2.12\"}]</td></tr></tbody></table></div>"
      ]
     },
     "metadata": {
      "application/vnd.databricks.v1+output": {
       "addedWidgets": {},
       "aggData": [],
       "aggError": "",
       "aggOverflow": false,
       "aggSchema": [],
       "aggSeriesLimitReached": false,
       "aggType": "",
       "arguments": {},
       "columnCustomDisplayInfos": {},
       "data": [
        [
         "430b89fbbd1a4d4b92cafddb1a614cab",
         "266955086784235",
         "FAILED",
         "dbfs:/databricks/mlflow-tracking/266955086784235/430b89fbbd1a4d4b92cafddb1a614cab/artifacts",
         "2024-01-07T19:35:46.014+0000",
         "2024-01-07T19:47:28.417+0000",
         null,
         null,
         null,
         "0107-192731-h78yjn14",
         "1704656848746",
         "soukainaasghuri@gmail.com",
         "1200065882693177",
         "https://community.cloud.databricks.com",
         "/Users/soukainaasghuri@gmail.com/5. MLflow-DataBricks (1)",
         "/Users/soukainaasghuri@gmail.com/5. MLflow-DataBricks (1)",
         "welcoming-smelt-649",
         "266955086784210",
         "NOTEBOOK",
         "{\"cluster_name\":\"cluster\",\"spark_version\":\"12.2.x-scala2.12\",\"node_type_id\":\"dev-tier-node\",\"driver_node_type_id\":\"dev-tier-node\",\"autotermination_minutes\":120,\"disk_spec\":{\"disk_count\":0},\"num_workers\":0}",
         "8621471201451870078_7508327980813974813_c5ae2b2d05554710b4e4ad3fd604d20a",
         "https://community.cloud.databricks.com",
         "{\"installable\":[],\"redacted\":[]}",
         null
        ],
        [
         "c5f16f1877a749599dc33b7cd3fbc834",
         "266955086784235",
         "FINISHED",
         "dbfs:/databricks/mlflow-tracking/266955086784235/c5f16f1877a749599dc33b7cd3fbc834/artifacts",
         "2024-01-07T19:35:15.822+0000",
         "2024-01-07T19:35:19.239+0000",
         0.8534122528037835,
         0.9987382145736217,
         0.9989250829555545,
         "0107-192731-h78yjn14",
         "1704656119396",
         "soukainaasghuri@gmail.com",
         "1200065882693177",
         "https://community.cloud.databricks.com",
         "/Users/soukainaasghuri@gmail.com/5. MLflow-DataBricks (1)",
         "/Users/soukainaasghuri@gmail.com/5. MLflow-DataBricks (1)",
         "ambitious-slug-500",
         "266955086784210",
         "NOTEBOOK",
         "{\"cluster_name\":\"cluster\",\"spark_version\":\"12.2.x-scala2.12\",\"node_type_id\":\"dev-tier-node\",\"driver_node_type_id\":\"dev-tier-node\",\"autotermination_minutes\":120,\"disk_spec\":{\"disk_count\":0},\"num_workers\":0}",
         "8621471201451870078_7934210292463334356_f470c68dda9544e98aed88d7c51786f0",
         "https://community.cloud.databricks.com",
         "{\"installable\":[],\"redacted\":[]}",
         "[{\"artifact_path\":\"log_reg_model\",\"flavors\":{\"python_function\":{\"model_path\":\"model.pkl\",\"env\":\"conda.yaml\",\"loader_module\":\"mlflow.sklearn\",\"python_version\":\"3.9.5\"},\"sklearn\":{\"pickled_model\":\"model.pkl\",\"sklearn_version\":\"1.0.2\",\"serialization_format\":\"cloudpickle\"}},\"run_id\":\"c5f16f1877a749599dc33b7cd3fbc834\",\"model_uuid\":\"1adac9eafbe74094ad2a271d09614b63\",\"utc_time_created\":\"2024-01-07 19:35:18.524732\",\"mlflow_version\":\"2.9.2\",\"databricks_runtime\":\"12.2.x-scala2.12\"}]"
        ]
       ],
       "datasetInfos": [],
       "dbfsResultPath": null,
       "isJsonSchema": true,
       "metadata": {},
       "overflow": false,
       "plotOptions": {
        "customPlotOptions": {},
        "displayType": "table",
        "pivotAggregation": null,
        "pivotColumns": null,
        "xColumns": null,
        "yColumns": null
       },
       "removedWidgets": [],
       "schema": [
        {
         "metadata": "{}",
         "name": "run_id",
         "type": "\"string\""
        },
        {
         "metadata": "{}",
         "name": "experiment_id",
         "type": "\"string\""
        },
        {
         "metadata": "{}",
         "name": "status",
         "type": "\"string\""
        },
        {
         "metadata": "{}",
         "name": "artifact_uri",
         "type": "\"string\""
        },
        {
         "metadata": "{}",
         "name": "start_time",
         "type": "\"timestamp\""
        },
        {
         "metadata": "{}",
         "name": "end_time",
         "type": "\"timestamp\""
        },
        {
         "metadata": "{}",
         "name": "metrics.auc_score",
         "type": "\"double\""
        },
        {
         "metadata": "{}",
         "name": "metrics.eval_acc",
         "type": "\"double\""
        },
        {
         "metadata": "{}",
         "name": "metrics.train_acc",
         "type": "\"double\""
        },
        {
         "metadata": "{}",
         "name": "tags.mlflow.databricks.cluster.id",
         "type": "\"string\""
        },
        {
         "metadata": "{}",
         "name": "tags.mlflow.databricks.notebookRevisionID",
         "type": "\"string\""
        },
        {
         "metadata": "{}",
         "name": "tags.mlflow.user",
         "type": "\"string\""
        },
        {
         "metadata": "{}",
         "name": "tags.mlflow.databricks.workspaceID",
         "type": "\"string\""
        },
        {
         "metadata": "{}",
         "name": "tags.mlflow.databricks.workspaceURL",
         "type": "\"string\""
        },
        {
         "metadata": "{}",
         "name": "tags.mlflow.databricks.notebookPath",
         "type": "\"string\""
        },
        {
         "metadata": "{}",
         "name": "tags.mlflow.source.name",
         "type": "\"string\""
        },
        {
         "metadata": "{}",
         "name": "tags.mlflow.runName",
         "type": "\"string\""
        },
        {
         "metadata": "{}",
         "name": "tags.mlflow.databricks.notebookID",
         "type": "\"string\""
        },
        {
         "metadata": "{}",
         "name": "tags.mlflow.source.type",
         "type": "\"string\""
        },
        {
         "metadata": "{}",
         "name": "tags.mlflow.databricks.cluster.info",
         "type": "\"string\""
        },
        {
         "metadata": "{}",
         "name": "tags.mlflow.databricks.notebook.commandID",
         "type": "\"string\""
        },
        {
         "metadata": "{}",
         "name": "tags.mlflow.databricks.webappURL",
         "type": "\"string\""
        },
        {
         "metadata": "{}",
         "name": "tags.mlflow.databricks.cluster.libraries",
         "type": "\"string\""
        },
        {
         "metadata": "{}",
         "name": "tags.mlflow.log-model.history",
         "type": "\"string\""
        }
       ],
       "type": "table"
      }
     },
     "output_type": "display_data"
    }
   ],
   "source": [
    "all_runs = mlflow.search_runs(max_results=10)  # Note : This is pandas dataframe\n",
    "display(all_runs)"
   ]
  },
  {
   "cell_type": "markdown",
   "metadata": {
    "application/vnd.databricks.v1+cell": {
     "cellMetadata": {},
     "inputWidgets": {},
     "nuid": "52230943-0dd9-4d07-b541-d5fcd525da8f",
     "showTitle": false,
     "title": ""
    }
   },
   "source": [
    "TAF: \n",
    "\n",
    "1. réexécutez la cellule 18 en utilisant d'autres modèle ML de SKlearn \n",
    "2. comparez vos résultats en utilisant l'outil de comparaison de MLFlow"
   ]
  },
  {
   "cell_type": "code",
   "execution_count": 0,
   "metadata": {
    "application/vnd.databricks.v1+cell": {
     "cellMetadata": {
      "byteLimit": 2048000,
      "rowLimit": 10000
     },
     "inputWidgets": {},
     "nuid": "557e4e7f-be3a-41d1-ab3b-7b8c1d8f6983",
     "showTitle": false,
     "title": ""
    }
   },
   "outputs": [
    {
     "output_type": "stream",
     "name": "stderr",
     "output_type": "stream",
     "text": [
      "/databricks/python/lib/python3.9/site-packages/sklearn/svm/_base.py:284: ConvergenceWarning: Solver terminated early (max_iter=10).  Consider pre-processing your data with StandardScaler or MinMaxScaler.\n  warnings.warn(\n"
     ]
    },
    {
     "output_type": "stream",
     "name": "stdout",
     "output_type": "stream",
     "text": [
      "Train Accuracy: 32.479%\nAuc Score: 60.027%\nEval Accuracy: 32.368%\n"
     ]
    },
    {
     "output_type": "stream",
     "name": "stderr",
     "output_type": "stream",
     "text": [
      "/databricks/python/lib/python3.9/site-packages/sklearn/utils/deprecation.py:87: FutureWarning: Function plot_roc_curve is deprecated; Function :func:`plot_roc_curve` is deprecated in 1.0 and will be removed in 1.2. Use one of the class methods: :meth:`sklearn.metric.RocCurveDisplay.from_predictions` or :meth:`sklearn.metric.RocCurveDisplay.from_estimator`.\n  warnings.warn(msg, category=FutureWarning)\n"
     ]
    },
    {
     "output_type": "display_data",
     "data": {
      "image/png": "[encoded data removed]"
     },
     "metadata": {
      "application/vnd.databricks.v1+output": {
       "addedWidgets": {},
       "arguments": {},
       "data": "data:image/png;base64,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\n",
       "datasetInfos": [],
       "metadata": {},
       "removedWidgets": [],
       "type": "image"
      }
     },
     "output_type": "display_data"
    },
    {
     "output_type": "stream",
     "name": "stderr",
     "output_type": "stream",
     "text": [
      "2024/01/07 19:47:34 WARNING mlflow.models.model: Model logged without a signature. Signatures will be required for upcoming model registry features as they validate model inputs and denote the expected schema of model outputs. Please visit https://www.mlflow.org/docs/2.9.2/models.html#set-signature-on-logged-model for instructions on setting a model signature on your logged model.\n2024/01/07 19:47:34 WARNING mlflow.utils.environment: Encountered an unexpected error while inferring pip requirements (model URI: /local_disk0/repl_tmp_data/ReplId-77a59-e6113-cc877-e/tmpua189a73/model/model.pkl, flavor: sklearn), fall back to return ['scikit-learn==1.0.2', 'cloudpickle==3.0.0']. Set logging level to DEBUG to see the full traceback.\n"
     ]
    },
    {
     "output_type": "stream",
     "name": "stdout",
     "output_type": "stream",
     "text": [
      "Model run:  59630cc8485945928e0662b3520247bf\n"
     ]
    },
    {
     "output_type": "display_data",
     "data": {
      "image/png": "[encoded data removed]"
     },
     "metadata": {
      "application/vnd.databricks.v1+output": {
       "addedWidgets": {},
       "arguments": {},
       "data": "data:image/png;base64,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\n",
       "datasetInfos": [],
       "metadata": {},
       "removedWidgets": [],
       "type": "image"
      }
     },
     "output_type": "display_data"
    }
   ],
   "source": [
    "from sklearn.svm import SVC\n",
    "svm_model = SVC(random_state=None, max_iter=10, kernel='linear')\n",
    "mlflow.set_experiment(\"/Users/soukainaasghuri@gmail.com/scikit_learn_experiment1\")\n",
    "with mlflow.start_run():\n",
    "    train(svm_model, x_train, y_train)\n",
    "    evaluate(svm_model, x_test, y_test)\n",
    "    mlflow.sklearn.log_model(svm_model, \"svm_model\")\n",
    "    print(\"Model run: \", mlflow.active_run().info.run_uuid)\n",
    "mlflow.end_run()\n"
   ]
  },
  {
   "cell_type": "code",
   "execution_count": 0,
   "metadata": {
    "application/vnd.databricks.v1+cell": {
     "cellMetadata": {
      "byteLimit": 2048000,
      "rowLimit": 10000
     },
     "inputWidgets": {},
     "nuid": "5f3e8659-09b2-48e5-baa0-ee5f2cc42294",
     "showTitle": false,
     "title": ""
    }
   },
   "outputs": [
    {
     "output_type": "stream",
     "name": "stdout",
     "output_type": "stream",
     "text": [
      "Train Accuracy: 99.999%\nAuc Score: 89.387%\nEval Accuracy: 99.912%\n"
     ]
    },
    {
     "output_type": "stream",
     "name": "stderr",
     "output_type": "stream",
     "text": [
      "/databricks/python/lib/python3.9/site-packages/sklearn/utils/deprecation.py:87: FutureWarning: Function plot_roc_curve is deprecated; Function :func:`plot_roc_curve` is deprecated in 1.0 and will be removed in 1.2. Use one of the class methods: :meth:`sklearn.metric.RocCurveDisplay.from_predictions` or :meth:`sklearn.metric.RocCurveDisplay.from_estimator`.\n  warnings.warn(msg, category=FutureWarning)\n"
     ]
    },
    {
     "output_type": "display_data",
     "data": {
      "image/png": "[encoded data removed]"
     },
     "metadata": {
      "application/vnd.databricks.v1+output": {
       "addedWidgets": {},
       "arguments": {},
       "data": "data:image/png;base64,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\n",
       "datasetInfos": [],
       "metadata": {},
       "removedWidgets": [],
       "type": "image"
      }
     },
     "output_type": "display_data"
    },
    {
     "output_type": "stream",
     "name": "stderr",
     "output_type": "stream",
     "text": [
      "2024/01/07 19:49:27 WARNING mlflow.models.model: Model logged without a signature. Signatures will be required for upcoming model registry features as they validate model inputs and denote the expected schema of model outputs. Please visit https://www.mlflow.org/docs/2.9.2/models.html#set-signature-on-logged-model for instructions on setting a model signature on your logged model.\n2024/01/07 19:49:27 WARNING mlflow.utils.environment: Encountered an unexpected error while inferring pip requirements (model URI: /local_disk0/repl_tmp_data/ReplId-77a59-e6113-cc877-e/tmp0ry69qvj/model/model.pkl, flavor: sklearn), fall back to return ['scikit-learn==1.0.2', 'cloudpickle==3.0.0']. Set logging level to DEBUG to see the full traceback.\n"
     ]
    },
    {
     "output_type": "stream",
     "name": "stdout",
     "output_type": "stream",
     "text": [
      "Model run:  1d58278392ba4c588ae854b1033dec0c\n"
     ]
    },
    {
     "output_type": "display_data",
     "data": {
      "image/png": "[encoded data removed]"
     },
     "metadata": {
      "application/vnd.databricks.v1+output": {
       "addedWidgets": {},
       "arguments": {},
       "data": "data:image/png;base64,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\n",
       "datasetInfos": [],
       "metadata": {},
       "removedWidgets": [],
       "type": "image"
      }
     },
     "output_type": "display_data"
    }
   ],
   "source": [
    "from sklearn.ensemble import RandomForestClassifier\n",
    "rf_model = RandomForestClassifier(random_state=None, n_estimators=100)\n",
    "\n",
    "mlflow.set_experiment(\"/Users/soukainaasghuri@gmail.com/scikit_learn_experiment1\")\n",
    "with mlflow.start_run():\n",
    "    train(rf_model, x_train, y_train)\n",
    "    evaluate(rf_model, x_test, y_test)\n",
    "    mlflow.sklearn.log_model(rf_model, \"random_forest_model\")\n",
    "    print(\"Model run: \", mlflow.active_run().info.run_uuid)\n",
    "mlflow.end_run()\n"
   ]
  },
  {
   "cell_type": "code",
   "execution_count": 0,
   "metadata": {
    "application/vnd.databricks.v1+cell": {
     "cellMetadata": {
      "byteLimit": 2048000,
      "rowLimit": 10000
     },
     "inputWidgets": {},
     "nuid": "1739de85-27c1-438e-bdaa-47222ce0141e",
     "showTitle": false,
     "title": ""
    }
   },
   "outputs": [
    {
     "output_type": "display_data",
     "data": {
      "text/plain": [
       "\u001B[0;31m---------------------------------------------------------------------------\u001B[0m\n",
       "\u001B[0;31mNameError\u001B[0m                                 Traceback (most recent call last)\n",
       "File \u001B[0;32m<command-266955086784237>:1\u001B[0m\n",
       "\u001B[0;32m----> 1\u001B[0m \u001B[43mimage\u001B[49m\u001B[38;5;241m.\u001B[39mpng\n",
       "\n",
       "\u001B[0;31mNameError\u001B[0m: name 'image' is not defined"
      ]
     },
     "metadata": {
      "application/vnd.databricks.v1+output": {
       "arguments": {},
       "data": "\u001B[0;31m---------------------------------------------------------------------------\u001B[0m\n\u001B[0;31mNameError\u001B[0m                                 Traceback (most recent call last)\nFile \u001B[0;32m<command-266955086784237>:1\u001B[0m\n\u001B[0;32m----> 1\u001B[0m \u001B[43mimage\u001B[49m\u001B[38;5;241m.\u001B[39mpng\n\n\u001B[0;31mNameError\u001B[0m: name 'image' is not defined",
       "errorSummary": "<span class='ansi-red-fg'>NameError</span>: name 'image' is not defined",
       "errorTraceType": "ansi",
       "metadata": {},
       "type": "ipynbError"
      }
     },
     "output_type": "display_data"
    }
   ],
   "source": []
  }
 ],
 "metadata": {
  "application/vnd.databricks.v1+notebook": {
   "dashboards": [],
   "language": "python",
   "notebookMetadata": {
    "pythonIndentUnit": 2
   },
   "notebookName": "5. MLflow-DataBricks (1)",
   "widgets": {}
  },
  "kernelspec": {
   "display_name": "Python 3 (ipykernel)",
   "language": "python",
   "name": "python3"
  },
  "language_info": {
   "codemirror_mode": {
    "name": "ipython",
    "version": 3
   },
   "file_extension": ".py",
   "mimetype": "text/x-python",
   "name": "python",
   "nbconvert_exporter": "python",
   "pygments_lexer": "ipython3",
   "version": "3.7.13"
  }
 },
 "nbformat": 4,
 "nbformat_minor": 0
}
